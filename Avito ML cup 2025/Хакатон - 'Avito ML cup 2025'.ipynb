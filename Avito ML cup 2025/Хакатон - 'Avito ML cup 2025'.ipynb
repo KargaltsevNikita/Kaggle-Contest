{
 "cells": [
  {
   "cell_type": "markdown",
   "id": "a6246bc9-d44b-44f3-832b-6f353c2a6b4a",
   "metadata": {},
   "source": [
    "# Avito ML cup 2025 - Персональные рекомендации товаров"
   ]
  },
  {
   "cell_type": "markdown",
   "id": "21e14b3b-d9be-4f1e-b277-9ab7f65c5a71",
   "metadata": {},
   "source": [
    "# Загрузка данных"
   ]
  },
  {
   "cell_type": "code",
   "execution_count": 1,
   "id": "f9f92c11-baa9-4d93-b895-d191cbef3e31",
   "metadata": {},
   "outputs": [],
   "source": [
    "%load_ext autoreload\n",
    "%autoreload 2"
   ]
  },
  {
   "cell_type": "code",
   "execution_count": 9,
   "id": "0fd7da79-5e1d-4330-8379-3b8beb16acd0",
   "metadata": {},
   "outputs": [],
   "source": [
    "# Скачиваем нужные библиотеки\n",
    "!pip install polars==1.25.2 >> _\n",
    "!pip install implicit >> _"
   ]
  },
  {
   "cell_type": "code",
   "execution_count": 4,
   "id": "07dda6ae-5973-44ea-a2b8-1b954c1c7619",
   "metadata": {},
   "outputs": [
    {
     "name": "stderr",
     "output_type": "stream",
     "text": [
      "Подпапка или файл data уже существует.\n"
     ]
    }
   ],
   "source": [
    "# Содаем папку data для хранения датасетов\n",
    "!mkdir data"
   ]
  },
  {
   "cell_type": "code",
   "execution_count": 5,
   "id": "d11cf29c-80bb-48dd-9a5a-7a7fee340a97",
   "metadata": {},
   "outputs": [],
   "source": [
    "# Скачиваем датасеты\n",
    "# !wget https://storage.yandexcloud.net/ds-ods/files/data/docs/competitions/Avitotechcomp2025/data_competition_1/clickstream.pq -O data/clickstream.pq >> _\n",
    "# !wget https://storage.yandexcloud.net/ds-ods/files/data/docs/competitions/Avitotechcomp2025/data_competition_1/test_users.pq -O data/test_users.pq >> _\n",
    "# !wget https://storage.yandexcloud.net/ds-ods/files/data/docs/competitions/Avitotechcomp2025/data_competition_1/cat_features.pq -O data/cat_features.pq >> _\n",
    "# !wget https://storage.yandexcloud.net/ds-ods/files/data/docs/competitions/Avitotechcomp2025/data_competition_1/text_features.pq -O data/text_features.pq >> _\n",
    "# !wget https://storage.yandexcloud.net/ds-ods/files/data/docs/competitions/Avitotechcomp2025/data_competition_1/events.pq -O data/events.pq >> _\n"
   ]
  },
  {
   "cell_type": "code",
   "execution_count": 6,
   "id": "7a1164ec-f32d-4d8c-9349-e07193347639",
   "metadata": {},
   "outputs": [],
   "source": [
    "# Подключаем необходимые библиотеки\n",
    "from datetime import timedelta\n",
    "import polars as pl\n",
    "import implicit"
   ]
  },
  {
   "cell_type": "code",
   "execution_count": 7,
   "id": "11dc4c75-27b3-4cbb-a68f-98d3e7177ddd",
   "metadata": {},
   "outputs": [],
   "source": [
    "# Загрузим все подготовленные данные из папки data/ в DataFrame Polars.\n",
    "DATA_DIR = 'data/'\n",
    "\n",
    "df_test_users = pl.read_parquet(f'{DATA_DIR}/test_users.pq')\n",
    "df_clickstream = pl.read_parquet(f'{DATA_DIR}/clickstream.pq')\n",
    "df_cat_features = pl.read_parquet(f'{DATA_DIR}/cat_features.pq')\n",
    "df_text_features = pl.read_parquet(f'{DATA_DIR}/text_features.pq')\n",
    "df_event = pl.read_parquet(f'{DATA_DIR}/events.pq')"
   ]
  },
  {
   "cell_type": "markdown",
   "id": "5811fa4d-e57a-42b0-bafe-f8ad7d60a136",
   "metadata": {},
   "source": [
    "**Описание данных:**\n",
    "1. `df_test_users` - список пользователей для предсказаний\n",
    "2. `df_clickstream` - история кликов пользователей\n",
    "3. `df_cat_features` - категориальные признаки\n",
    "4. `df_text_features` - текстовые признаки\n",
    "5. `df_event` - события"
   ]
  },
  {
   "cell_type": "markdown",
   "id": "3480bc17-29b0-4f91-b9a2-e2109ba1e230",
   "metadata": {},
   "source": [
    "**Описание столбцов:**\n",
    "- `cookie` - пользователь\n",
    "- `item` - id объявлений\n",
    "- `event` - код событий, которые произошли\n",
    "- `event_date` - дата события\n",
    "- `platform` - 6 вариантов платформ\n",
    "- `surface` - экран, с которого было взаимодействие\n",
    "- `node` - id группы товара\n",
    "- `is_contact` - контактное ли событие"
   ]
  },
  {
   "cell_type": "markdown",
   "id": "4dbdd9d5-f954-4d6f-9da6-a2561e49088e",
   "metadata": {},
   "source": [
    "# Исследовательский анализ данных"
   ]
  },
  {
   "cell_type": "markdown",
   "id": "00bef422-5e1b-4f77-9141-319de53e264d",
   "metadata": {},
   "source": [
    "## Изучим и опишем данные из таблицы df_test_users"
   ]
  },
  {
   "cell_type": "code",
   "execution_count": 8,
   "id": "a85c8571-b1a8-4b0b-955a-f2ef62591b07",
   "metadata": {
    "scrolled": true
   },
   "outputs": [
    {
     "data": {
      "text/plain": [
       "(shape: (92_319, 1)\n",
       " ┌────────┐\n",
       " │ cookie │\n",
       " │ ---    │\n",
       " │ i64    │\n",
       " ╞════════╡\n",
       " │ 52564  │\n",
       " │ 105000 │\n",
       " │ 57152  │\n",
       " │ 87303  │\n",
       " │ 37755  │\n",
       " │ …      │\n",
       " │ 78910  │\n",
       " │ 64750  │\n",
       " │ 118889 │\n",
       " │ 131    │\n",
       " │ 37487  │\n",
       " └────────┘,\n",
       " shape: (9, 2)\n",
       " ┌────────────┬──────────────┐\n",
       " │ statistic  ┆ value        │\n",
       " │ ---        ┆ ---          │\n",
       " │ str        ┆ f64          │\n",
       " ╞════════════╪══════════════╡\n",
       " │ count      ┆ 92319.0      │\n",
       " │ null_count ┆ 0.0          │\n",
       " │ mean       ┆ 75192.415429 │\n",
       " │ std        ┆ 43297.982566 │\n",
       " │ min        ┆ 1.0          │\n",
       " │ 25%        ┆ 37653.0      │\n",
       " │ 50%        ┆ 75255.0      │\n",
       " │ 75%        ┆ 112733.0     │\n",
       " │ max        ┆ 149999.0     │\n",
       " └────────────┴──────────────┘,\n",
       " 92319,\n",
       " shape: (10, 3)\n",
       " ┌────────────┬──────────────────────┬───────┐\n",
       " │ breakpoint ┆ category             ┆ count │\n",
       " │ ---        ┆ ---                  ┆ ---   │\n",
       " │ f64        ┆ cat                  ┆ u32   │\n",
       " ╞════════════╪══════════════════════╪═══════╡\n",
       " │ 15000.8    ┆ (-148.998, 15000.8]  ┆ 9132  │\n",
       " │ 30000.6    ┆ (15000.8, 30000.6]   ┆ 9231  │\n",
       " │ 45000.4    ┆ (30000.6, 45000.4]   ┆ 9223  │\n",
       " │ 60000.2    ┆ (45000.4, 60000.2]   ┆ 9155  │\n",
       " │ 75000.0    ┆ (60000.2, 75000.0]   ┆ 9273  │\n",
       " │ 89999.8    ┆ (75000.0, 89999.8]   ┆ 9148  │\n",
       " │ 104999.6   ┆ (89999.8, 104999.6]  ┆ 9278  │\n",
       " │ 119999.4   ┆ (104999.6, 119999.4] ┆ 9353  │\n",
       " │ 134999.2   ┆ (119999.4, 134999.2] ┆ 9237  │\n",
       " │ 149999.0   ┆ (134999.2, 149999.0] ┆ 9289  │\n",
       " └────────────┴──────────────────────┴───────┘)"
      ]
     },
     "execution_count": 8,
     "metadata": {},
     "output_type": "execute_result"
    }
   ],
   "source": [
    "df_test_users, \n",
    "df_test_users['cookie'].describe(), \n",
    "len(df_test_users['cookie'].unique()), \n",
    "df_test_users['cookie'].hist()"
   ]
  },
  {
   "cell_type": "markdown",
   "id": "fcc5b7cc-fa6a-4319-98a1-eb25dc0ce219",
   "metadata": {},
   "source": [
    "**Как видно из таблице выше:** \n",
    "- в тестовом файле 92 319 пользователей с cookies\n",
    "\n",
    "- для каждого нужно определить группы nodes\n",
    "\n",
    "- эти группы не должны быть теми, которые он уже кликал\n",
    "\n",
    "- нужно определить, на какие группы товаров пользователи вероятнее всего откликнутся, из тех, с которыми они еще не взаимодействовали\n",
    "\n",
    "- рекомендуется по 10 групп выдавать каждому пользователю как ответ"
   ]
  },
  {
   "cell_type": "markdown",
   "id": "675dd8c4-b7c8-46d3-a412-0c35a680d2a2",
   "metadata": {},
   "source": [
    "## Изучим и опишем данные из таблицы df_clickstream"
   ]
  },
  {
   "cell_type": "code",
   "execution_count": 9,
   "id": "90b16d88-4c3e-4ed0-b186-9c339f4fada3",
   "metadata": {},
   "outputs": [
    {
     "data": {
      "text/html": [
       "<div><style>\n",
       ".dataframe > thead > tr,\n",
       ".dataframe > tbody > tr {\n",
       "  text-align: right;\n",
       "  white-space: pre-wrap;\n",
       "}\n",
       "</style>\n",
       "<small>shape: (9, 8)</small><table border=\"1\" class=\"dataframe\"><thead><tr><th>statistic</th><th>cookie</th><th>item</th><th>event</th><th>event_date</th><th>platform</th><th>surface</th><th>node</th></tr><tr><td>str</td><td>f64</td><td>f64</td><td>f64</td><td>str</td><td>f64</td><td>f64</td><td>f64</td></tr></thead><tbody><tr><td>&quot;count&quot;</td><td>6.8806152e7</td><td>6.8806152e7</td><td>6.8806152e7</td><td>&quot;68806152&quot;</td><td>6.8806152e7</td><td>6.8806152e7</td><td>6.8806152e7</td></tr><tr><td>&quot;null_count&quot;</td><td>0.0</td><td>0.0</td><td>0.0</td><td>&quot;0&quot;</td><td>0.0</td><td>0.0</td><td>0.0</td></tr><tr><td>&quot;mean&quot;</td><td>74884.102841</td><td>1.4402e7</td><td>16.29883</td><td>&quot;2025-02-01 15:21:43.914605&quot;</td><td>2.374055</td><td>6.051714</td><td>165425.273495</td></tr><tr><td>&quot;std&quot;</td><td>43250.599321</td><td>8.3145e6</td><td>2.188569</td><td>null</td><td>0.776999</td><td>4.695714</td><td>88418.121967</td></tr><tr><td>&quot;min&quot;</td><td>0.0</td><td>0.0</td><td>0.0</td><td>&quot;2025-01-10 00:00:00&quot;</td><td>0.0</td><td>0.0</td><td>1.0</td></tr><tr><td>&quot;25%&quot;</td><td>37353.0</td><td>7.20358e6</td><td>17.0</td><td>&quot;2025-01-21 16:02:41&quot;</td><td>2.0</td><td>2.0</td><td>116118.0</td></tr><tr><td>&quot;50%&quot;</td><td>74884.0</td><td>1.440721e7</td><td>17.0</td><td>&quot;2025-02-01 23:37:08&quot;</td><td>2.0</td><td>3.0</td><td>153937.0</td></tr><tr><td>&quot;75%&quot;</td><td>112113.0</td><td>2.1605283e7</td><td>17.0</td><td>&quot;2025-02-12 16:12:00&quot;</td><td>3.0</td><td>11.0</td><td>214338.0</td></tr><tr><td>&quot;max&quot;</td><td>149999.0</td><td>2.8804867e7</td><td>19.0</td><td>&quot;2025-02-23 00:00:00&quot;</td><td>6.0</td><td>18.0</td><td>424068.0</td></tr></tbody></table></div>"
      ],
      "text/plain": [
       "shape: (9, 8)\n",
       "┌────────────┬────────────┬────────────┬───────────┬───────────┬───────────┬───────────┬───────────┐\n",
       "│ statistic  ┆ cookie     ┆ item       ┆ event     ┆ event_dat ┆ platform  ┆ surface   ┆ node      │\n",
       "│ ---        ┆ ---        ┆ ---        ┆ ---       ┆ e         ┆ ---       ┆ ---       ┆ ---       │\n",
       "│ str        ┆ f64        ┆ f64        ┆ f64       ┆ ---       ┆ f64       ┆ f64       ┆ f64       │\n",
       "│            ┆            ┆            ┆           ┆ str       ┆           ┆           ┆           │\n",
       "╞════════════╪════════════╪════════════╪═══════════╪═══════════╪═══════════╪═══════════╪═══════════╡\n",
       "│ count      ┆ 6.8806152e ┆ 6.8806152e ┆ 6.8806152 ┆ 68806152  ┆ 6.8806152 ┆ 6.8806152 ┆ 6.8806152 │\n",
       "│            ┆ 7          ┆ 7          ┆ e7        ┆           ┆ e7        ┆ e7        ┆ e7        │\n",
       "│ null_count ┆ 0.0        ┆ 0.0        ┆ 0.0       ┆ 0         ┆ 0.0       ┆ 0.0       ┆ 0.0       │\n",
       "│ mean       ┆ 74884.1028 ┆ 1.4402e7   ┆ 16.29883  ┆ 2025-02-0 ┆ 2.374055  ┆ 6.051714  ┆ 165425.27 │\n",
       "│            ┆ 41         ┆            ┆           ┆ 1 15:21:4 ┆           ┆           ┆ 3495      │\n",
       "│            ┆            ┆            ┆           ┆ 3.914605  ┆           ┆           ┆           │\n",
       "│ std        ┆ 43250.5993 ┆ 8.3145e6   ┆ 2.188569  ┆ null      ┆ 0.776999  ┆ 4.695714  ┆ 88418.121 │\n",
       "│            ┆ 21         ┆            ┆           ┆           ┆           ┆           ┆ 967       │\n",
       "│ min        ┆ 0.0        ┆ 0.0        ┆ 0.0       ┆ 2025-01-1 ┆ 0.0       ┆ 0.0       ┆ 1.0       │\n",
       "│            ┆            ┆            ┆           ┆ 0         ┆           ┆           ┆           │\n",
       "│            ┆            ┆            ┆           ┆ 00:00:00  ┆           ┆           ┆           │\n",
       "│ 25%        ┆ 37353.0    ┆ 7.20358e6  ┆ 17.0      ┆ 2025-01-2 ┆ 2.0       ┆ 2.0       ┆ 116118.0  │\n",
       "│            ┆            ┆            ┆           ┆ 1         ┆           ┆           ┆           │\n",
       "│            ┆            ┆            ┆           ┆ 16:02:41  ┆           ┆           ┆           │\n",
       "│ 50%        ┆ 74884.0    ┆ 1.440721e7 ┆ 17.0      ┆ 2025-02-0 ┆ 2.0       ┆ 3.0       ┆ 153937.0  │\n",
       "│            ┆            ┆            ┆           ┆ 1         ┆           ┆           ┆           │\n",
       "│            ┆            ┆            ┆           ┆ 23:37:08  ┆           ┆           ┆           │\n",
       "│ 75%        ┆ 112113.0   ┆ 2.1605283e ┆ 17.0      ┆ 2025-02-1 ┆ 3.0       ┆ 11.0      ┆ 214338.0  │\n",
       "│            ┆            ┆ 7          ┆           ┆ 2         ┆           ┆           ┆           │\n",
       "│            ┆            ┆            ┆           ┆ 16:12:00  ┆           ┆           ┆           │\n",
       "│ max        ┆ 149999.0   ┆ 2.8804867e ┆ 19.0      ┆ 2025-02-2 ┆ 6.0       ┆ 18.0      ┆ 424068.0  │\n",
       "│            ┆            ┆ 7          ┆           ┆ 3         ┆           ┆           ┆           │\n",
       "│            ┆            ┆            ┆           ┆ 00:00:00  ┆           ┆           ┆           │\n",
       "└────────────┴────────────┴────────────┴───────────┴───────────┴───────────┴───────────┴───────────┘"
      ]
     },
     "execution_count": 9,
     "metadata": {},
     "output_type": "execute_result"
    }
   ],
   "source": [
    "df_clickstream.describe()"
   ]
  },
  {
   "cell_type": "code",
   "execution_count": 10,
   "id": "ee775be7-fe92-4139-a028-e56e96c2bb71",
   "metadata": {},
   "outputs": [
    {
     "name": "stdout",
     "output_type": "stream",
     "text": [
      "[0, 0, 1, 1, 3, 3, 5, 6, 7, 8, 9, 10, 10, 10, 10, 10, 10, 10, 12, 12, 12, 12, 12, 12, 12, 13, 13, 13, 13, 14, 14, 14, 14, 14, 14, 14, 14, 14, 14, 14, 14, 14, 14, 14, 14, 14, 14, 14, 14, 15, 16, 17, 18, 18, 18, 18, 18, 18, 18, 18, 18, 18, 19, 20, 20, 22, 23, 24, 25, 25, 26, 26, 27, 28, 28, 28, 28, 28, 28, 28, 28, 28, 28, 28, 28, 28, 28, 28, 28, 28, 28, 28, 28, 28, 28, 28, 28, 28, 28, 28]\n"
     ]
    }
   ],
   "source": [
    "# Выведем первые 100 товаров, отсортированных по значению\n",
    "print(df_clickstream['item'].sort().head(100).to_list())"
   ]
  },
  {
   "cell_type": "code",
   "execution_count": 11,
   "id": "551c01e4-bb06-4b8d-bb3b-f715647fa243",
   "metadata": {},
   "outputs": [],
   "source": [
    "# Создадим функцию для анализа распределения частот в столбцах\n",
    "def calc_dist_param(column, data=df_clickstream, verbose=True):\n",
    "    clicks_count = data[column].value_counts().sort(by=['count'])\n",
    "    \n",
    "    if verbose:\n",
    "        print(f'CLICKS COUNT count distr (value_counts) for column \\\"{column}\\\":')\n",
    "        display(clicks_count)\n",
    "        print('===DESCRIBE===')\n",
    "        display(clicks_count.describe())\n",
    "        print('===HIST===')\n",
    "        display(clicks_count['count'].hist())\n",
    "        \n",
    "    return clicks_count"
   ]
  },
  {
   "cell_type": "code",
   "execution_count": 12,
   "id": "a5cee6e8-19db-45b6-b694-4342c39fdaed",
   "metadata": {},
   "outputs": [
    {
     "name": "stdout",
     "output_type": "stream",
     "text": [
      "CLICKS COUNT count distr (value_counts) for column \"cookie\":\n"
     ]
    },
    {
     "data": {
      "text/html": [
       "<div><style>\n",
       ".dataframe > thead > tr,\n",
       ".dataframe > tbody > tr {\n",
       "  text-align: right;\n",
       "  white-space: pre-wrap;\n",
       "}\n",
       "</style>\n",
       "<small>shape: (134_294, 2)</small><table border=\"1\" class=\"dataframe\"><thead><tr><th>cookie</th><th>count</th></tr><tr><td>i64</td><td>u32</td></tr></thead><tbody><tr><td>59442</td><td>1</td></tr><tr><td>111720</td><td>1</td></tr><tr><td>48324</td><td>1</td></tr><tr><td>88073</td><td>1</td></tr><tr><td>45563</td><td>1</td></tr><tr><td>&hellip;</td><td>&hellip;</td></tr><tr><td>31003</td><td>16341</td></tr><tr><td>116470</td><td>18030</td></tr><tr><td>6003</td><td>21680</td></tr><tr><td>81716</td><td>21711</td></tr><tr><td>138038</td><td>22864</td></tr></tbody></table></div>"
      ],
      "text/plain": [
       "shape: (134_294, 2)\n",
       "┌────────┬───────┐\n",
       "│ cookie ┆ count │\n",
       "│ ---    ┆ ---   │\n",
       "│ i64    ┆ u32   │\n",
       "╞════════╪═══════╡\n",
       "│ 59442  ┆ 1     │\n",
       "│ 111720 ┆ 1     │\n",
       "│ 48324  ┆ 1     │\n",
       "│ 88073  ┆ 1     │\n",
       "│ 45563  ┆ 1     │\n",
       "│ …      ┆ …     │\n",
       "│ 31003  ┆ 16341 │\n",
       "│ 116470 ┆ 18030 │\n",
       "│ 6003   ┆ 21680 │\n",
       "│ 81716  ┆ 21711 │\n",
       "│ 138038 ┆ 22864 │\n",
       "└────────┴───────┘"
      ]
     },
     "metadata": {},
     "output_type": "display_data"
    },
    {
     "name": "stdout",
     "output_type": "stream",
     "text": [
      "===DESCRIBE===\n"
     ]
    },
    {
     "data": {
      "text/html": [
       "<div><style>\n",
       ".dataframe > thead > tr,\n",
       ".dataframe > tbody > tr {\n",
       "  text-align: right;\n",
       "  white-space: pre-wrap;\n",
       "}\n",
       "</style>\n",
       "<small>shape: (9, 3)</small><table border=\"1\" class=\"dataframe\"><thead><tr><th>statistic</th><th>cookie</th><th>count</th></tr><tr><td>str</td><td>f64</td><td>f64</td></tr></thead><tbody><tr><td>&quot;count&quot;</td><td>134294.0</td><td>134294.0</td></tr><tr><td>&quot;null_count&quot;</td><td>0.0</td><td>0.0</td></tr><tr><td>&quot;mean&quot;</td><td>75065.303163</td><td>512.354625</td></tr><tr><td>&quot;std&quot;</td><td>43299.301473</td><td>823.573902</td></tr><tr><td>&quot;min&quot;</td><td>0.0</td><td>1.0</td></tr><tr><td>&quot;25%&quot;</td><td>37570.0</td><td>67.0</td></tr><tr><td>&quot;50%&quot;</td><td>75042.0</td><td>231.0</td></tr><tr><td>&quot;75%&quot;</td><td>112571.0</td><td>625.0</td></tr><tr><td>&quot;max&quot;</td><td>149999.0</td><td>22864.0</td></tr></tbody></table></div>"
      ],
      "text/plain": [
       "shape: (9, 3)\n",
       "┌────────────┬──────────────┬────────────┐\n",
       "│ statistic  ┆ cookie       ┆ count      │\n",
       "│ ---        ┆ ---          ┆ ---        │\n",
       "│ str        ┆ f64          ┆ f64        │\n",
       "╞════════════╪══════════════╪════════════╡\n",
       "│ count      ┆ 134294.0     ┆ 134294.0   │\n",
       "│ null_count ┆ 0.0          ┆ 0.0        │\n",
       "│ mean       ┆ 75065.303163 ┆ 512.354625 │\n",
       "│ std        ┆ 43299.301473 ┆ 823.573902 │\n",
       "│ min        ┆ 0.0          ┆ 1.0        │\n",
       "│ 25%        ┆ 37570.0      ┆ 67.0       │\n",
       "│ 50%        ┆ 75042.0      ┆ 231.0      │\n",
       "│ 75%        ┆ 112571.0     ┆ 625.0      │\n",
       "│ max        ┆ 149999.0     ┆ 22864.0    │\n",
       "└────────────┴──────────────┴────────────┘"
      ]
     },
     "metadata": {},
     "output_type": "display_data"
    },
    {
     "name": "stdout",
     "output_type": "stream",
     "text": [
      "===HIST===\n"
     ]
    },
    {
     "data": {
      "text/html": [
       "<div><style>\n",
       ".dataframe > thead > tr,\n",
       ".dataframe > tbody > tr {\n",
       "  text-align: right;\n",
       "  white-space: pre-wrap;\n",
       "}\n",
       "</style>\n",
       "<small>shape: (10, 3)</small><table border=\"1\" class=\"dataframe\"><thead><tr><th>breakpoint</th><th>category</th><th>count</th></tr><tr><td>f64</td><td>cat</td><td>u32</td></tr></thead><tbody><tr><td>2287.3</td><td>&quot;(-21.863, 2287.3]&quot;</td><td>129639</td></tr><tr><td>4573.6</td><td>&quot;(2287.3, 4573.6]&quot;</td><td>3817</td></tr><tr><td>6859.9</td><td>&quot;(4573.6, 6859.9]&quot;</td><td>601</td></tr><tr><td>9146.2</td><td>&quot;(6859.9, 9146.2]&quot;</td><td>138</td></tr><tr><td>11432.5</td><td>&quot;(9146.2, 11432.5]&quot;</td><td>59</td></tr><tr><td>13718.8</td><td>&quot;(11432.5, 13718.8]&quot;</td><td>22</td></tr><tr><td>16005.1</td><td>&quot;(13718.8, 16005.1]&quot;</td><td>12</td></tr><tr><td>18291.4</td><td>&quot;(16005.1, 18291.4]&quot;</td><td>3</td></tr><tr><td>20577.7</td><td>&quot;(18291.4, 20577.7]&quot;</td><td>0</td></tr><tr><td>22864.0</td><td>&quot;(20577.7, 22864.0]&quot;</td><td>3</td></tr></tbody></table></div>"
      ],
      "text/plain": [
       "shape: (10, 3)\n",
       "┌────────────┬────────────────────┬────────┐\n",
       "│ breakpoint ┆ category           ┆ count  │\n",
       "│ ---        ┆ ---                ┆ ---    │\n",
       "│ f64        ┆ cat                ┆ u32    │\n",
       "╞════════════╪════════════════════╪════════╡\n",
       "│ 2287.3     ┆ (-21.863, 2287.3]  ┆ 129639 │\n",
       "│ 4573.6     ┆ (2287.3, 4573.6]   ┆ 3817   │\n",
       "│ 6859.9     ┆ (4573.6, 6859.9]   ┆ 601    │\n",
       "│ 9146.2     ┆ (6859.9, 9146.2]   ┆ 138    │\n",
       "│ 11432.5    ┆ (9146.2, 11432.5]  ┆ 59     │\n",
       "│ 13718.8    ┆ (11432.5, 13718.8] ┆ 22     │\n",
       "│ 16005.1    ┆ (13718.8, 16005.1] ┆ 12     │\n",
       "│ 18291.4    ┆ (16005.1, 18291.4] ┆ 3      │\n",
       "│ 20577.7    ┆ (18291.4, 20577.7] ┆ 0      │\n",
       "│ 22864.0    ┆ (20577.7, 22864.0] ┆ 3      │\n",
       "└────────────┴────────────────────┴────────┘"
      ]
     },
     "metadata": {},
     "output_type": "display_data"
    },
    {
     "data": {
      "text/html": [
       "<div><style>\n",
       ".dataframe > thead > tr,\n",
       ".dataframe > tbody > tr {\n",
       "  text-align: right;\n",
       "  white-space: pre-wrap;\n",
       "}\n",
       "</style>\n",
       "<small>shape: (134_294, 2)</small><table border=\"1\" class=\"dataframe\"><thead><tr><th>cookie</th><th>count</th></tr><tr><td>i64</td><td>u32</td></tr></thead><tbody><tr><td>59442</td><td>1</td></tr><tr><td>111720</td><td>1</td></tr><tr><td>48324</td><td>1</td></tr><tr><td>88073</td><td>1</td></tr><tr><td>45563</td><td>1</td></tr><tr><td>&hellip;</td><td>&hellip;</td></tr><tr><td>31003</td><td>16341</td></tr><tr><td>116470</td><td>18030</td></tr><tr><td>6003</td><td>21680</td></tr><tr><td>81716</td><td>21711</td></tr><tr><td>138038</td><td>22864</td></tr></tbody></table></div>"
      ],
      "text/plain": [
       "shape: (134_294, 2)\n",
       "┌────────┬───────┐\n",
       "│ cookie ┆ count │\n",
       "│ ---    ┆ ---   │\n",
       "│ i64    ┆ u32   │\n",
       "╞════════╪═══════╡\n",
       "│ 59442  ┆ 1     │\n",
       "│ 111720 ┆ 1     │\n",
       "│ 48324  ┆ 1     │\n",
       "│ 88073  ┆ 1     │\n",
       "│ 45563  ┆ 1     │\n",
       "│ …      ┆ …     │\n",
       "│ 31003  ┆ 16341 │\n",
       "│ 116470 ┆ 18030 │\n",
       "│ 6003   ┆ 21680 │\n",
       "│ 81716  ┆ 21711 │\n",
       "│ 138038 ┆ 22864 │\n",
       "└────────┴───────┘"
      ]
     },
     "execution_count": 12,
     "metadata": {},
     "output_type": "execute_result"
    }
   ],
   "source": [
    "# Распределение кол-ва кликов по пользователям\n",
    "calc_dist_param('cookie')"
   ]
  },
  {
   "cell_type": "code",
   "execution_count": 13,
   "id": "dd55de73-a1cd-48a2-a776-a4f0ec872677",
   "metadata": {},
   "outputs": [
    {
     "name": "stdout",
     "output_type": "stream",
     "text": [
      "CLICKS COUNT count distr (value_counts) for column \"item\":\n"
     ]
    },
    {
     "data": {
      "text/html": [
       "<div><style>\n",
       ".dataframe > thead > tr,\n",
       ".dataframe > tbody > tr {\n",
       "  text-align: right;\n",
       "  white-space: pre-wrap;\n",
       "}\n",
       "</style>\n",
       "<small>shape: (22_646_691, 2)</small><table border=\"1\" class=\"dataframe\"><thead><tr><th>item</th><th>count</th></tr><tr><td>i64</td><td>u32</td></tr></thead><tbody><tr><td>9671567</td><td>1</td></tr><tr><td>27041484</td><td>1</td></tr><tr><td>24848736</td><td>1</td></tr><tr><td>20659765</td><td>1</td></tr><tr><td>3695198</td><td>1</td></tr><tr><td>&hellip;</td><td>&hellip;</td></tr><tr><td>16454256</td><td>2116</td></tr><tr><td>17649863</td><td>2270</td></tr><tr><td>22565184</td><td>2530</td></tr><tr><td>16726181</td><td>2613</td></tr><tr><td>15897500</td><td>2642</td></tr></tbody></table></div>"
      ],
      "text/plain": [
       "shape: (22_646_691, 2)\n",
       "┌──────────┬───────┐\n",
       "│ item     ┆ count │\n",
       "│ ---      ┆ ---   │\n",
       "│ i64      ┆ u32   │\n",
       "╞══════════╪═══════╡\n",
       "│ 9671567  ┆ 1     │\n",
       "│ 27041484 ┆ 1     │\n",
       "│ 24848736 ┆ 1     │\n",
       "│ 20659765 ┆ 1     │\n",
       "│ 3695198  ┆ 1     │\n",
       "│ …        ┆ …     │\n",
       "│ 16454256 ┆ 2116  │\n",
       "│ 17649863 ┆ 2270  │\n",
       "│ 22565184 ┆ 2530  │\n",
       "│ 16726181 ┆ 2613  │\n",
       "│ 15897500 ┆ 2642  │\n",
       "└──────────┴───────┘"
      ]
     },
     "metadata": {},
     "output_type": "display_data"
    },
    {
     "name": "stdout",
     "output_type": "stream",
     "text": [
      "===DESCRIBE===\n"
     ]
    },
    {
     "data": {
      "text/html": [
       "<div><style>\n",
       ".dataframe > thead > tr,\n",
       ".dataframe > tbody > tr {\n",
       "  text-align: right;\n",
       "  white-space: pre-wrap;\n",
       "}\n",
       "</style>\n",
       "<small>shape: (9, 3)</small><table border=\"1\" class=\"dataframe\"><thead><tr><th>statistic</th><th>item</th><th>count</th></tr><tr><td>str</td><td>f64</td><td>f64</td></tr></thead><tbody><tr><td>&quot;count&quot;</td><td>2.2646691e7</td><td>2.2646691e7</td></tr><tr><td>&quot;null_count&quot;</td><td>0.0</td><td>0.0</td></tr><tr><td>&quot;mean&quot;</td><td>1.4402e7</td><td>3.038243</td></tr><tr><td>&quot;std&quot;</td><td>8.3149e6</td><td>6.415441</td></tr><tr><td>&quot;min&quot;</td><td>0.0</td><td>1.0</td></tr><tr><td>&quot;25%&quot;</td><td>7.201417e6</td><td>1.0</td></tr><tr><td>&quot;50%&quot;</td><td>1.4402191e7</td><td>1.0</td></tr><tr><td>&quot;75%&quot;</td><td>2.160266e7</td><td>3.0</td></tr><tr><td>&quot;max&quot;</td><td>2.8804867e7</td><td>2642.0</td></tr></tbody></table></div>"
      ],
      "text/plain": [
       "shape: (9, 3)\n",
       "┌────────────┬─────────────┬─────────────┐\n",
       "│ statistic  ┆ item        ┆ count       │\n",
       "│ ---        ┆ ---         ┆ ---         │\n",
       "│ str        ┆ f64         ┆ f64         │\n",
       "╞════════════╪═════════════╪═════════════╡\n",
       "│ count      ┆ 2.2646691e7 ┆ 2.2646691e7 │\n",
       "│ null_count ┆ 0.0         ┆ 0.0         │\n",
       "│ mean       ┆ 1.4402e7    ┆ 3.038243    │\n",
       "│ std        ┆ 8.3149e6    ┆ 6.415441    │\n",
       "│ min        ┆ 0.0         ┆ 1.0         │\n",
       "│ 25%        ┆ 7.201417e6  ┆ 1.0         │\n",
       "│ 50%        ┆ 1.4402191e7 ┆ 1.0         │\n",
       "│ 75%        ┆ 2.160266e7  ┆ 3.0         │\n",
       "│ max        ┆ 2.8804867e7 ┆ 2642.0      │\n",
       "└────────────┴─────────────┴─────────────┘"
      ]
     },
     "metadata": {},
     "output_type": "display_data"
    },
    {
     "name": "stdout",
     "output_type": "stream",
     "text": [
      "===HIST===\n"
     ]
    },
    {
     "data": {
      "text/html": [
       "<div><style>\n",
       ".dataframe > thead > tr,\n",
       ".dataframe > tbody > tr {\n",
       "  text-align: right;\n",
       "  white-space: pre-wrap;\n",
       "}\n",
       "</style>\n",
       "<small>shape: (10, 3)</small><table border=\"1\" class=\"dataframe\"><thead><tr><th>breakpoint</th><th>category</th><th>count</th></tr><tr><td>f64</td><td>cat</td><td>u32</td></tr></thead><tbody><tr><td>265.1</td><td>&quot;(-1.641, 265.1]&quot;</td><td>22645787</td></tr><tr><td>529.2</td><td>&quot;(265.1, 529.2]&quot;</td><td>753</td></tr><tr><td>793.3</td><td>&quot;(529.2, 793.3]&quot;</td><td>101</td></tr><tr><td>1057.4</td><td>&quot;(793.3, 1057.4]&quot;</td><td>31</td></tr><tr><td>1321.5</td><td>&quot;(1057.4, 1321.5]&quot;</td><td>5</td></tr><tr><td>1585.6</td><td>&quot;(1321.5, 1585.6]&quot;</td><td>7</td></tr><tr><td>1849.7</td><td>&quot;(1585.6, 1849.7]&quot;</td><td>1</td></tr><tr><td>2113.8</td><td>&quot;(1849.7, 2113.8]&quot;</td><td>1</td></tr><tr><td>2377.9</td><td>&quot;(2113.8, 2377.9]&quot;</td><td>2</td></tr><tr><td>2642.0</td><td>&quot;(2377.9, 2642.0]&quot;</td><td>3</td></tr></tbody></table></div>"
      ],
      "text/plain": [
       "shape: (10, 3)\n",
       "┌────────────┬──────────────────┬──────────┐\n",
       "│ breakpoint ┆ category         ┆ count    │\n",
       "│ ---        ┆ ---              ┆ ---      │\n",
       "│ f64        ┆ cat              ┆ u32      │\n",
       "╞════════════╪══════════════════╪══════════╡\n",
       "│ 265.1      ┆ (-1.641, 265.1]  ┆ 22645787 │\n",
       "│ 529.2      ┆ (265.1, 529.2]   ┆ 753      │\n",
       "│ 793.3      ┆ (529.2, 793.3]   ┆ 101      │\n",
       "│ 1057.4     ┆ (793.3, 1057.4]  ┆ 31       │\n",
       "│ 1321.5     ┆ (1057.4, 1321.5] ┆ 5        │\n",
       "│ 1585.6     ┆ (1321.5, 1585.6] ┆ 7        │\n",
       "│ 1849.7     ┆ (1585.6, 1849.7] ┆ 1        │\n",
       "│ 2113.8     ┆ (1849.7, 2113.8] ┆ 1        │\n",
       "│ 2377.9     ┆ (2113.8, 2377.9] ┆ 2        │\n",
       "│ 2642.0     ┆ (2377.9, 2642.0] ┆ 3        │\n",
       "└────────────┴──────────────────┴──────────┘"
      ]
     },
     "metadata": {},
     "output_type": "display_data"
    },
    {
     "data": {
      "text/html": [
       "<div><style>\n",
       ".dataframe > thead > tr,\n",
       ".dataframe > tbody > tr {\n",
       "  text-align: right;\n",
       "  white-space: pre-wrap;\n",
       "}\n",
       "</style>\n",
       "<small>shape: (22_646_691, 2)</small><table border=\"1\" class=\"dataframe\"><thead><tr><th>item</th><th>count</th></tr><tr><td>i64</td><td>u32</td></tr></thead><tbody><tr><td>9671567</td><td>1</td></tr><tr><td>27041484</td><td>1</td></tr><tr><td>24848736</td><td>1</td></tr><tr><td>20659765</td><td>1</td></tr><tr><td>3695198</td><td>1</td></tr><tr><td>&hellip;</td><td>&hellip;</td></tr><tr><td>16454256</td><td>2116</td></tr><tr><td>17649863</td><td>2270</td></tr><tr><td>22565184</td><td>2530</td></tr><tr><td>16726181</td><td>2613</td></tr><tr><td>15897500</td><td>2642</td></tr></tbody></table></div>"
      ],
      "text/plain": [
       "shape: (22_646_691, 2)\n",
       "┌──────────┬───────┐\n",
       "│ item     ┆ count │\n",
       "│ ---      ┆ ---   │\n",
       "│ i64      ┆ u32   │\n",
       "╞══════════╪═══════╡\n",
       "│ 9671567  ┆ 1     │\n",
       "│ 27041484 ┆ 1     │\n",
       "│ 24848736 ┆ 1     │\n",
       "│ 20659765 ┆ 1     │\n",
       "│ 3695198  ┆ 1     │\n",
       "│ …        ┆ …     │\n",
       "│ 16454256 ┆ 2116  │\n",
       "│ 17649863 ┆ 2270  │\n",
       "│ 22565184 ┆ 2530  │\n",
       "│ 16726181 ┆ 2613  │\n",
       "│ 15897500 ┆ 2642  │\n",
       "└──────────┴───────┘"
      ]
     },
     "execution_count": 13,
     "metadata": {},
     "output_type": "execute_result"
    }
   ],
   "source": [
    "# Распределение кол-ва кликов по товарам\n",
    "calc_dist_param('item')"
   ]
  },
  {
   "cell_type": "code",
   "execution_count": 14,
   "id": "b91d5ffe-28ed-4181-b455-53f28d1239f8",
   "metadata": {},
   "outputs": [
    {
     "name": "stdout",
     "output_type": "stream",
     "text": [
      "CLICKS COUNT count distr (value_counts) for column \"platform\":\n"
     ]
    },
    {
     "data": {
      "text/html": [
       "<div><style>\n",
       ".dataframe > thead > tr,\n",
       ".dataframe > tbody > tr {\n",
       "  text-align: right;\n",
       "  white-space: pre-wrap;\n",
       "}\n",
       "</style>\n",
       "<small>shape: (7, 2)</small><table border=\"1\" class=\"dataframe\"><thead><tr><th>platform</th><th>count</th></tr><tr><td>i64</td><td>u32</td></tr></thead><tbody><tr><td>6</td><td>202</td></tr><tr><td>4</td><td>1669</td></tr><tr><td>1</td><td>10299</td></tr><tr><td>5</td><td>1980699</td></tr><tr><td>0</td><td>2253252</td></tr><tr><td>3</td><td>24307843</td></tr><tr><td>2</td><td>40252188</td></tr></tbody></table></div>"
      ],
      "text/plain": [
       "shape: (7, 2)\n",
       "┌──────────┬──────────┐\n",
       "│ platform ┆ count    │\n",
       "│ ---      ┆ ---      │\n",
       "│ i64      ┆ u32      │\n",
       "╞══════════╪══════════╡\n",
       "│ 6        ┆ 202      │\n",
       "│ 4        ┆ 1669     │\n",
       "│ 1        ┆ 10299    │\n",
       "│ 5        ┆ 1980699  │\n",
       "│ 0        ┆ 2253252  │\n",
       "│ 3        ┆ 24307843 │\n",
       "│ 2        ┆ 40252188 │\n",
       "└──────────┴──────────┘"
      ]
     },
     "metadata": {},
     "output_type": "display_data"
    },
    {
     "name": "stdout",
     "output_type": "stream",
     "text": [
      "===DESCRIBE===\n"
     ]
    },
    {
     "data": {
      "text/html": [
       "<div><style>\n",
       ".dataframe > thead > tr,\n",
       ".dataframe > tbody > tr {\n",
       "  text-align: right;\n",
       "  white-space: pre-wrap;\n",
       "}\n",
       "</style>\n",
       "<small>shape: (9, 3)</small><table border=\"1\" class=\"dataframe\"><thead><tr><th>statistic</th><th>platform</th><th>count</th></tr><tr><td>str</td><td>f64</td><td>f64</td></tr></thead><tbody><tr><td>&quot;count&quot;</td><td>7.0</td><td>7.0</td></tr><tr><td>&quot;null_count&quot;</td><td>0.0</td><td>0.0</td></tr><tr><td>&quot;mean&quot;</td><td>3.0</td><td>9.8295e6</td></tr><tr><td>&quot;std&quot;</td><td>2.160247</td><td>1.6040e7</td></tr><tr><td>&quot;min&quot;</td><td>0.0</td><td>202.0</td></tr><tr><td>&quot;25%&quot;</td><td>2.0</td><td>10299.0</td></tr><tr><td>&quot;50%&quot;</td><td>3.0</td><td>1.980699e6</td></tr><tr><td>&quot;75%&quot;</td><td>5.0</td><td>2.4307843e7</td></tr><tr><td>&quot;max&quot;</td><td>6.0</td><td>4.0252188e7</td></tr></tbody></table></div>"
      ],
      "text/plain": [
       "shape: (9, 3)\n",
       "┌────────────┬──────────┬─────────────┐\n",
       "│ statistic  ┆ platform ┆ count       │\n",
       "│ ---        ┆ ---      ┆ ---         │\n",
       "│ str        ┆ f64      ┆ f64         │\n",
       "╞════════════╪══════════╪═════════════╡\n",
       "│ count      ┆ 7.0      ┆ 7.0         │\n",
       "│ null_count ┆ 0.0      ┆ 0.0         │\n",
       "│ mean       ┆ 3.0      ┆ 9.8295e6    │\n",
       "│ std        ┆ 2.160247 ┆ 1.6040e7    │\n",
       "│ min        ┆ 0.0      ┆ 202.0       │\n",
       "│ 25%        ┆ 2.0      ┆ 10299.0     │\n",
       "│ 50%        ┆ 3.0      ┆ 1.980699e6  │\n",
       "│ 75%        ┆ 5.0      ┆ 2.4307843e7 │\n",
       "│ max        ┆ 6.0      ┆ 4.0252188e7 │\n",
       "└────────────┴──────────┴─────────────┘"
      ]
     },
     "metadata": {},
     "output_type": "display_data"
    },
    {
     "name": "stdout",
     "output_type": "stream",
     "text": [
      "===HIST===\n"
     ]
    },
    {
     "data": {
      "text/html": [
       "<div><style>\n",
       ".dataframe > thead > tr,\n",
       ".dataframe > tbody > tr {\n",
       "  text-align: right;\n",
       "  white-space: pre-wrap;\n",
       "}\n",
       "</style>\n",
       "<small>shape: (10, 3)</small><table border=\"1\" class=\"dataframe\"><thead><tr><th>breakpoint</th><th>category</th><th>count</th></tr><tr><td>f64</td><td>cat</td><td>u32</td></tr></thead><tbody><tr><td>4025400.6</td><td>&quot;(-40049.986, 4025400.6]&quot;</td><td>5</td></tr><tr><td>8050599.2</td><td>&quot;(4025400.6, 8050599.2]&quot;</td><td>0</td></tr><tr><td>1.2076e7</td><td>&quot;(8050599.2, 1.2076e7]&quot;</td><td>0</td></tr><tr><td>1.6101e7</td><td>&quot;(1.2076e7, 1.6101e7]&quot;</td><td>0</td></tr><tr><td>2.0126195e7</td><td>&quot;(1.6101e7, 2.0126195e7]&quot;</td><td>0</td></tr><tr><td>2.4151e7</td><td>&quot;(2.0126195e7, 2.4151e7]&quot;</td><td>0</td></tr><tr><td>2.8177e7</td><td>&quot;(2.4151e7, 2.8177e7]&quot;</td><td>1</td></tr><tr><td>3.2202e7</td><td>&quot;(2.8177e7, 3.2202e7]&quot;</td><td>0</td></tr><tr><td>3.6227e7</td><td>&quot;(3.2202e7, 3.6227e7]&quot;</td><td>0</td></tr><tr><td>4.0252188e7</td><td>&quot;(3.6227e7, 4.0252188e7]&quot;</td><td>1</td></tr></tbody></table></div>"
      ],
      "text/plain": [
       "shape: (10, 3)\n",
       "┌─────────────┬─────────────────────────┬───────┐\n",
       "│ breakpoint  ┆ category                ┆ count │\n",
       "│ ---         ┆ ---                     ┆ ---   │\n",
       "│ f64         ┆ cat                     ┆ u32   │\n",
       "╞═════════════╪═════════════════════════╪═══════╡\n",
       "│ 4025400.6   ┆ (-40049.986, 4025400.6] ┆ 5     │\n",
       "│ 8050599.2   ┆ (4025400.6, 8050599.2]  ┆ 0     │\n",
       "│ 1.2076e7    ┆ (8050599.2, 1.2076e7]   ┆ 0     │\n",
       "│ 1.6101e7    ┆ (1.2076e7, 1.6101e7]    ┆ 0     │\n",
       "│ 2.0126195e7 ┆ (1.6101e7, 2.0126195e7] ┆ 0     │\n",
       "│ 2.4151e7    ┆ (2.0126195e7, 2.4151e7] ┆ 0     │\n",
       "│ 2.8177e7    ┆ (2.4151e7, 2.8177e7]    ┆ 1     │\n",
       "│ 3.2202e7    ┆ (2.8177e7, 3.2202e7]    ┆ 0     │\n",
       "│ 3.6227e7    ┆ (3.2202e7, 3.6227e7]    ┆ 0     │\n",
       "│ 4.0252188e7 ┆ (3.6227e7, 4.0252188e7] ┆ 1     │\n",
       "└─────────────┴─────────────────────────┴───────┘"
      ]
     },
     "metadata": {},
     "output_type": "display_data"
    },
    {
     "data": {
      "text/html": [
       "<div><style>\n",
       ".dataframe > thead > tr,\n",
       ".dataframe > tbody > tr {\n",
       "  text-align: right;\n",
       "  white-space: pre-wrap;\n",
       "}\n",
       "</style>\n",
       "<small>shape: (7, 2)</small><table border=\"1\" class=\"dataframe\"><thead><tr><th>platform</th><th>count</th></tr><tr><td>i64</td><td>u32</td></tr></thead><tbody><tr><td>6</td><td>202</td></tr><tr><td>4</td><td>1669</td></tr><tr><td>1</td><td>10299</td></tr><tr><td>5</td><td>1980699</td></tr><tr><td>0</td><td>2253252</td></tr><tr><td>3</td><td>24307843</td></tr><tr><td>2</td><td>40252188</td></tr></tbody></table></div>"
      ],
      "text/plain": [
       "shape: (7, 2)\n",
       "┌──────────┬──────────┐\n",
       "│ platform ┆ count    │\n",
       "│ ---      ┆ ---      │\n",
       "│ i64      ┆ u32      │\n",
       "╞══════════╪══════════╡\n",
       "│ 6        ┆ 202      │\n",
       "│ 4        ┆ 1669     │\n",
       "│ 1        ┆ 10299    │\n",
       "│ 5        ┆ 1980699  │\n",
       "│ 0        ┆ 2253252  │\n",
       "│ 3        ┆ 24307843 │\n",
       "│ 2        ┆ 40252188 │\n",
       "└──────────┴──────────┘"
      ]
     },
     "execution_count": 14,
     "metadata": {},
     "output_type": "execute_result"
    }
   ],
   "source": [
    "# Распределение кол-ва кликов по платформам\n",
    "calc_dist_param('platform')"
   ]
  },
  {
   "cell_type": "code",
   "execution_count": 15,
   "id": "1c011702-6a12-424b-ac34-d7918383a10c",
   "metadata": {},
   "outputs": [
    {
     "name": "stdout",
     "output_type": "stream",
     "text": [
      "CLICKS COUNT count distr (value_counts) for column \"surface\":\n"
     ]
    },
    {
     "data": {
      "text/html": [
       "<div><style>\n",
       ".dataframe > thead > tr,\n",
       ".dataframe > tbody > tr {\n",
       "  text-align: right;\n",
       "  white-space: pre-wrap;\n",
       "}\n",
       "</style>\n",
       "<small>shape: (19, 2)</small><table border=\"1\" class=\"dataframe\"><thead><tr><th>surface</th><th>count</th></tr><tr><td>i64</td><td>u32</td></tr></thead><tbody><tr><td>12</td><td>74</td></tr><tr><td>16</td><td>647</td></tr><tr><td>18</td><td>2180</td></tr><tr><td>1</td><td>7412</td></tr><tr><td>0</td><td>7608</td></tr><tr><td>&hellip;</td><td>&hellip;</td></tr><tr><td>15</td><td>2799442</td></tr><tr><td>3</td><td>3943848</td></tr><tr><td>5</td><td>3949883</td></tr><tr><td>11</td><td>20610292</td></tr><tr><td>2</td><td>33199960</td></tr></tbody></table></div>"
      ],
      "text/plain": [
       "shape: (19, 2)\n",
       "┌─────────┬──────────┐\n",
       "│ surface ┆ count    │\n",
       "│ ---     ┆ ---      │\n",
       "│ i64     ┆ u32      │\n",
       "╞═════════╪══════════╡\n",
       "│ 12      ┆ 74       │\n",
       "│ 16      ┆ 647      │\n",
       "│ 18      ┆ 2180     │\n",
       "│ 1       ┆ 7412     │\n",
       "│ 0       ┆ 7608     │\n",
       "│ …       ┆ …        │\n",
       "│ 15      ┆ 2799442  │\n",
       "│ 3       ┆ 3943848  │\n",
       "│ 5       ┆ 3949883  │\n",
       "│ 11      ┆ 20610292 │\n",
       "│ 2       ┆ 33199960 │\n",
       "└─────────┴──────────┘"
      ]
     },
     "metadata": {},
     "output_type": "display_data"
    },
    {
     "name": "stdout",
     "output_type": "stream",
     "text": [
      "===DESCRIBE===\n"
     ]
    },
    {
     "data": {
      "text/html": [
       "<div><style>\n",
       ".dataframe > thead > tr,\n",
       ".dataframe > tbody > tr {\n",
       "  text-align: right;\n",
       "  white-space: pre-wrap;\n",
       "}\n",
       "</style>\n",
       "<small>shape: (9, 3)</small><table border=\"1\" class=\"dataframe\"><thead><tr><th>statistic</th><th>surface</th><th>count</th></tr><tr><td>str</td><td>f64</td><td>f64</td></tr></thead><tbody><tr><td>&quot;count&quot;</td><td>19.0</td><td>19.0</td></tr><tr><td>&quot;null_count&quot;</td><td>0.0</td><td>0.0</td></tr><tr><td>&quot;mean&quot;</td><td>9.0</td><td>3.6214e6</td></tr><tr><td>&quot;std&quot;</td><td>5.627314</td><td>8.5725e6</td></tr><tr><td>&quot;min&quot;</td><td>0.0</td><td>74.0</td></tr><tr><td>&quot;25%&quot;</td><td>5.0</td><td>12925.0</td></tr><tr><td>&quot;50%&quot;</td><td>9.0</td><td>71475.0</td></tr><tr><td>&quot;75%&quot;</td><td>14.0</td><td>2.799442e6</td></tr><tr><td>&quot;max&quot;</td><td>18.0</td><td>3.319996e7</td></tr></tbody></table></div>"
      ],
      "text/plain": [
       "shape: (9, 3)\n",
       "┌────────────┬──────────┬────────────┐\n",
       "│ statistic  ┆ surface  ┆ count      │\n",
       "│ ---        ┆ ---      ┆ ---        │\n",
       "│ str        ┆ f64      ┆ f64        │\n",
       "╞════════════╪══════════╪════════════╡\n",
       "│ count      ┆ 19.0     ┆ 19.0       │\n",
       "│ null_count ┆ 0.0      ┆ 0.0        │\n",
       "│ mean       ┆ 9.0      ┆ 3.6214e6   │\n",
       "│ std        ┆ 5.627314 ┆ 8.5725e6   │\n",
       "│ min        ┆ 0.0      ┆ 74.0       │\n",
       "│ 25%        ┆ 5.0      ┆ 12925.0    │\n",
       "│ 50%        ┆ 9.0      ┆ 71475.0    │\n",
       "│ 75%        ┆ 14.0     ┆ 2.799442e6 │\n",
       "│ max        ┆ 18.0     ┆ 3.319996e7 │\n",
       "└────────────┴──────────┴────────────┘"
      ]
     },
     "metadata": {},
     "output_type": "display_data"
    },
    {
     "name": "stdout",
     "output_type": "stream",
     "text": [
      "===HIST===\n"
     ]
    },
    {
     "data": {
      "text/html": [
       "<div><style>\n",
       ".dataframe > thead > tr,\n",
       ".dataframe > tbody > tr {\n",
       "  text-align: right;\n",
       "  white-space: pre-wrap;\n",
       "}\n",
       "</style>\n",
       "<small>shape: (10, 3)</small><table border=\"1\" class=\"dataframe\"><thead><tr><th>breakpoint</th><th>category</th><th>count</th></tr><tr><td>f64</td><td>cat</td><td>u32</td></tr></thead><tbody><tr><td>3320062.6</td><td>&quot;(-33125.886, 3320062.6]&quot;</td><td>15</td></tr><tr><td>6640051.2</td><td>&quot;(3320062.6, 6640051.2]&quot;</td><td>2</td></tr><tr><td>9960039.8</td><td>&quot;(6640051.2, 9960039.8]&quot;</td><td>0</td></tr><tr><td>1.3280e7</td><td>&quot;(9960039.8, 1.3280e7]&quot;</td><td>0</td></tr><tr><td>1.6600017e7</td><td>&quot;(1.3280e7, 1.6600017e7]&quot;</td><td>0</td></tr><tr><td>1.9920e7</td><td>&quot;(1.6600017e7, 1.9920e7]&quot;</td><td>0</td></tr><tr><td>2.3240e7</td><td>&quot;(1.9920e7, 2.3240e7]&quot;</td><td>1</td></tr><tr><td>2.6560e7</td><td>&quot;(2.3240e7, 2.6560e7]&quot;</td><td>0</td></tr><tr><td>2.9880e7</td><td>&quot;(2.6560e7, 2.9880e7]&quot;</td><td>0</td></tr><tr><td>3.319996e7</td><td>&quot;(2.9880e7, 3.319996e7]&quot;</td><td>1</td></tr></tbody></table></div>"
      ],
      "text/plain": [
       "shape: (10, 3)\n",
       "┌─────────────┬─────────────────────────┬───────┐\n",
       "│ breakpoint  ┆ category                ┆ count │\n",
       "│ ---         ┆ ---                     ┆ ---   │\n",
       "│ f64         ┆ cat                     ┆ u32   │\n",
       "╞═════════════╪═════════════════════════╪═══════╡\n",
       "│ 3320062.6   ┆ (-33125.886, 3320062.6] ┆ 15    │\n",
       "│ 6640051.2   ┆ (3320062.6, 6640051.2]  ┆ 2     │\n",
       "│ 9960039.8   ┆ (6640051.2, 9960039.8]  ┆ 0     │\n",
       "│ 1.3280e7    ┆ (9960039.8, 1.3280e7]   ┆ 0     │\n",
       "│ 1.6600017e7 ┆ (1.3280e7, 1.6600017e7] ┆ 0     │\n",
       "│ 1.9920e7    ┆ (1.6600017e7, 1.9920e7] ┆ 0     │\n",
       "│ 2.3240e7    ┆ (1.9920e7, 2.3240e7]    ┆ 1     │\n",
       "│ 2.6560e7    ┆ (2.3240e7, 2.6560e7]    ┆ 0     │\n",
       "│ 2.9880e7    ┆ (2.6560e7, 2.9880e7]    ┆ 0     │\n",
       "│ 3.319996e7  ┆ (2.9880e7, 3.319996e7]  ┆ 1     │\n",
       "└─────────────┴─────────────────────────┴───────┘"
      ]
     },
     "metadata": {},
     "output_type": "display_data"
    },
    {
     "data": {
      "text/html": [
       "<div><style>\n",
       ".dataframe > thead > tr,\n",
       ".dataframe > tbody > tr {\n",
       "  text-align: right;\n",
       "  white-space: pre-wrap;\n",
       "}\n",
       "</style>\n",
       "<small>shape: (19, 2)</small><table border=\"1\" class=\"dataframe\"><thead><tr><th>surface</th><th>count</th></tr><tr><td>i64</td><td>u32</td></tr></thead><tbody><tr><td>12</td><td>74</td></tr><tr><td>16</td><td>647</td></tr><tr><td>18</td><td>2180</td></tr><tr><td>1</td><td>7412</td></tr><tr><td>0</td><td>7608</td></tr><tr><td>&hellip;</td><td>&hellip;</td></tr><tr><td>15</td><td>2799442</td></tr><tr><td>3</td><td>3943848</td></tr><tr><td>5</td><td>3949883</td></tr><tr><td>11</td><td>20610292</td></tr><tr><td>2</td><td>33199960</td></tr></tbody></table></div>"
      ],
      "text/plain": [
       "shape: (19, 2)\n",
       "┌─────────┬──────────┐\n",
       "│ surface ┆ count    │\n",
       "│ ---     ┆ ---      │\n",
       "│ i64     ┆ u32      │\n",
       "╞═════════╪══════════╡\n",
       "│ 12      ┆ 74       │\n",
       "│ 16      ┆ 647      │\n",
       "│ 18      ┆ 2180     │\n",
       "│ 1       ┆ 7412     │\n",
       "│ 0       ┆ 7608     │\n",
       "│ …       ┆ …        │\n",
       "│ 15      ┆ 2799442  │\n",
       "│ 3       ┆ 3943848  │\n",
       "│ 5       ┆ 3949883  │\n",
       "│ 11      ┆ 20610292 │\n",
       "│ 2       ┆ 33199960 │\n",
       "└─────────┴──────────┘"
      ]
     },
     "execution_count": 15,
     "metadata": {},
     "output_type": "execute_result"
    }
   ],
   "source": [
    "# Распределение кол-ва кликов по экранам, с которых были взаимодействия\n",
    "calc_dist_param('surface')"
   ]
  },
  {
   "cell_type": "code",
   "execution_count": 16,
   "id": "5fc154b7-0597-414d-90aa-21d8a1af1179",
   "metadata": {},
   "outputs": [
    {
     "data": {
      "text/html": [
       "<div><style>\n",
       ".dataframe > thead > tr,\n",
       ".dataframe > tbody > tr {\n",
       "  text-align: right;\n",
       "  white-space: pre-wrap;\n",
       "}\n",
       "</style>\n",
       "<small>shape: (92, 3)</small><table border=\"1\" class=\"dataframe\"><thead><tr><th>platform</th><th>surface</th><th>count</th></tr><tr><td>i64</td><td>i64</td><td>u32</td></tr></thead><tbody><tr><td>0</td><td>12</td><td>2</td></tr><tr><td>0</td><td>4</td><td>3120</td></tr><tr><td>0</td><td>13</td><td>2061</td></tr><tr><td>0</td><td>3</td><td>117619</td></tr><tr><td>0</td><td>10</td><td>4640</td></tr><tr><td>&hellip;</td><td>&hellip;</td><td>&hellip;</td></tr><tr><td>5</td><td>12</td><td>1</td></tr><tr><td>5</td><td>5</td><td>252058</td></tr><tr><td>6</td><td>5</td><td>198</td></tr><tr><td>6</td><td>11</td><td>1</td></tr><tr><td>6</td><td>2</td><td>3</td></tr></tbody></table></div>"
      ],
      "text/plain": [
       "shape: (92, 3)\n",
       "┌──────────┬─────────┬────────┐\n",
       "│ platform ┆ surface ┆ count  │\n",
       "│ ---      ┆ ---     ┆ ---    │\n",
       "│ i64      ┆ i64     ┆ u32    │\n",
       "╞══════════╪═════════╪════════╡\n",
       "│ 0        ┆ 12      ┆ 2      │\n",
       "│ 0        ┆ 4       ┆ 3120   │\n",
       "│ 0        ┆ 13      ┆ 2061   │\n",
       "│ 0        ┆ 3       ┆ 117619 │\n",
       "│ 0        ┆ 10      ┆ 4640   │\n",
       "│ …        ┆ …       ┆ …      │\n",
       "│ 5        ┆ 12      ┆ 1      │\n",
       "│ 5        ┆ 5       ┆ 252058 │\n",
       "│ 6        ┆ 5       ┆ 198    │\n",
       "│ 6        ┆ 11      ┆ 1      │\n",
       "│ 6        ┆ 2       ┆ 3      │\n",
       "└──────────┴─────────┴────────┘"
      ]
     },
     "execution_count": 16,
     "metadata": {},
     "output_type": "execute_result"
    }
   ],
   "source": [
    "# Сгруппируем записи по платформе и экранам\n",
    "(\n",
    "    df_clickstream\n",
    "    .group_by([\"platform\", \"surface\"])  # Группируем по нескольким столбцам\n",
    "    .agg(pl.col(\"node\").count().alias(\"count\"))  # Подсчитываем количество записей в каждой группе\n",
    ").sort(by=['platform'])"
   ]
  },
  {
   "cell_type": "code",
   "execution_count": 19,
   "id": "7a4c160e-2e88-4d52-8238-096c4bbc3f0d",
   "metadata": {},
   "outputs": [
    {
     "name": "stdout",
     "output_type": "stream",
     "text": [
      "CLICKS COUNT count distr (value_counts) for column \"node\":\n"
     ]
    },
    {
     "data": {
      "text/html": [
       "<div><style>\n",
       ".dataframe > thead > tr,\n",
       ".dataframe > tbody > tr {\n",
       "  text-align: right;\n",
       "  white-space: pre-wrap;\n",
       "}\n",
       "</style>\n",
       "<small>shape: (408_474, 2)</small><table border=\"1\" class=\"dataframe\"><thead><tr><th>node</th><th>count</th></tr><tr><td>u32</td><td>u32</td></tr></thead><tbody><tr><td>358337</td><td>1</td></tr><tr><td>50520</td><td>1</td></tr><tr><td>405706</td><td>1</td></tr><tr><td>193105</td><td>1</td></tr><tr><td>8958</td><td>1</td></tr><tr><td>&hellip;</td><td>&hellip;</td></tr><tr><td>71511</td><td>606865</td></tr><tr><td>71546</td><td>653126</td></tr><tr><td>71514</td><td>780292</td></tr><tr><td>170538</td><td>1087640</td></tr><tr><td>151453</td><td>2184712</td></tr></tbody></table></div>"
      ],
      "text/plain": [
       "shape: (408_474, 2)\n",
       "┌────────┬─────────┐\n",
       "│ node   ┆ count   │\n",
       "│ ---    ┆ ---     │\n",
       "│ u32    ┆ u32     │\n",
       "╞════════╪═════════╡\n",
       "│ 358337 ┆ 1       │\n",
       "│ 50520  ┆ 1       │\n",
       "│ 405706 ┆ 1       │\n",
       "│ 193105 ┆ 1       │\n",
       "│ 8958   ┆ 1       │\n",
       "│ …      ┆ …       │\n",
       "│ 71511  ┆ 606865  │\n",
       "│ 71546  ┆ 653126  │\n",
       "│ 71514  ┆ 780292  │\n",
       "│ 170538 ┆ 1087640 │\n",
       "│ 151453 ┆ 2184712 │\n",
       "└────────┴─────────┘"
      ]
     },
     "metadata": {},
     "output_type": "display_data"
    },
    {
     "name": "stdout",
     "output_type": "stream",
     "text": [
      "===DESCRIBE===\n"
     ]
    },
    {
     "data": {
      "text/html": [
       "<div><style>\n",
       ".dataframe > thead > tr,\n",
       ".dataframe > tbody > tr {\n",
       "  text-align: right;\n",
       "  white-space: pre-wrap;\n",
       "}\n",
       "</style>\n",
       "<small>shape: (9, 3)</small><table border=\"1\" class=\"dataframe\"><thead><tr><th>statistic</th><th>node</th><th>count</th></tr><tr><td>str</td><td>f64</td><td>f64</td></tr></thead><tbody><tr><td>&quot;count&quot;</td><td>408474.0</td><td>408474.0</td></tr><tr><td>&quot;null_count&quot;</td><td>0.0</td><td>0.0</td></tr><tr><td>&quot;mean&quot;</td><td>211451.832327</td><td>168.446834</td></tr><tr><td>&quot;std&quot;</td><td>122084.237383</td><td>5244.534765</td></tr><tr><td>&quot;min&quot;</td><td>1.0</td><td>1.0</td></tr><tr><td>&quot;25%&quot;</td><td>106081.0</td><td>3.0</td></tr><tr><td>&quot;50%&quot;</td><td>210711.0</td><td>8.0</td></tr><tr><td>&quot;75%&quot;</td><td>316972.0</td><td>23.0</td></tr><tr><td>&quot;max&quot;</td><td>424068.0</td><td>2.184712e6</td></tr></tbody></table></div>"
      ],
      "text/plain": [
       "shape: (9, 3)\n",
       "┌────────────┬───────────────┬─────────────┐\n",
       "│ statistic  ┆ node          ┆ count       │\n",
       "│ ---        ┆ ---           ┆ ---         │\n",
       "│ str        ┆ f64           ┆ f64         │\n",
       "╞════════════╪═══════════════╪═════════════╡\n",
       "│ count      ┆ 408474.0      ┆ 408474.0    │\n",
       "│ null_count ┆ 0.0           ┆ 0.0         │\n",
       "│ mean       ┆ 211451.832327 ┆ 168.446834  │\n",
       "│ std        ┆ 122084.237383 ┆ 5244.534765 │\n",
       "│ min        ┆ 1.0           ┆ 1.0         │\n",
       "│ 25%        ┆ 106081.0      ┆ 3.0         │\n",
       "│ 50%        ┆ 210711.0      ┆ 8.0         │\n",
       "│ 75%        ┆ 316972.0      ┆ 23.0        │\n",
       "│ max        ┆ 424068.0      ┆ 2.184712e6  │\n",
       "└────────────┴───────────────┴─────────────┘"
      ]
     },
     "metadata": {},
     "output_type": "display_data"
    },
    {
     "name": "stdout",
     "output_type": "stream",
     "text": [
      "===HIST===\n"
     ]
    },
    {
     "data": {
      "text/html": [
       "<div><style>\n",
       ".dataframe > thead > tr,\n",
       ".dataframe > tbody > tr {\n",
       "  text-align: right;\n",
       "  white-space: pre-wrap;\n",
       "}\n",
       "</style>\n",
       "<small>shape: (10, 3)</small><table border=\"1\" class=\"dataframe\"><thead><tr><th>breakpoint</th><th>category</th><th>count</th></tr><tr><td>f64</td><td>cat</td><td>u32</td></tr></thead><tbody><tr><td>218472.1</td><td>&quot;(-2183.711, 218472.1]&quot;</td><td>408452</td></tr><tr><td>436943.2</td><td>&quot;(218472.1, 436943.2]&quot;</td><td>16</td></tr><tr><td>655414.3</td><td>&quot;(436943.2, 655414.3]&quot;</td><td>3</td></tr><tr><td>873885.4</td><td>&quot;(655414.3, 873885.4]&quot;</td><td>1</td></tr><tr><td>1092356.5</td><td>&quot;(873885.4, 1092356.5]&quot;</td><td>1</td></tr><tr><td>1310827.6</td><td>&quot;(1092356.5, 1310827.6]&quot;</td><td>0</td></tr><tr><td>1529298.7</td><td>&quot;(1310827.6, 1529298.7]&quot;</td><td>0</td></tr><tr><td>1747769.8</td><td>&quot;(1529298.7, 1747769.8]&quot;</td><td>0</td></tr><tr><td>1.9662e6</td><td>&quot;(1747769.8, 1.9662e6]&quot;</td><td>0</td></tr><tr><td>2.184712e6</td><td>&quot;(1.9662e6, 2.184712e6]&quot;</td><td>1</td></tr></tbody></table></div>"
      ],
      "text/plain": [
       "shape: (10, 3)\n",
       "┌────────────┬────────────────────────┬────────┐\n",
       "│ breakpoint ┆ category               ┆ count  │\n",
       "│ ---        ┆ ---                    ┆ ---    │\n",
       "│ f64        ┆ cat                    ┆ u32    │\n",
       "╞════════════╪════════════════════════╪════════╡\n",
       "│ 218472.1   ┆ (-2183.711, 218472.1]  ┆ 408452 │\n",
       "│ 436943.2   ┆ (218472.1, 436943.2]   ┆ 16     │\n",
       "│ 655414.3   ┆ (436943.2, 655414.3]   ┆ 3      │\n",
       "│ 873885.4   ┆ (655414.3, 873885.4]   ┆ 1      │\n",
       "│ 1092356.5  ┆ (873885.4, 1092356.5]  ┆ 1      │\n",
       "│ 1310827.6  ┆ (1092356.5, 1310827.6] ┆ 0      │\n",
       "│ 1529298.7  ┆ (1310827.6, 1529298.7] ┆ 0      │\n",
       "│ 1747769.8  ┆ (1529298.7, 1747769.8] ┆ 0      │\n",
       "│ 1.9662e6   ┆ (1747769.8, 1.9662e6]  ┆ 0      │\n",
       "│ 2.184712e6 ┆ (1.9662e6, 2.184712e6] ┆ 1      │\n",
       "└────────────┴────────────────────────┴────────┘"
      ]
     },
     "metadata": {},
     "output_type": "display_data"
    }
   ],
   "source": [
    "# Распределение кол-ва кликов по группам товаров\n",
    "node_clicks_count = calc_dist_param('node')"
   ]
  },
  {
   "cell_type": "code",
   "execution_count": 22,
   "id": "91bf8d29-7398-415e-baa7-40f4d4711854",
   "metadata": {
    "scrolled": true
   },
   "outputs": [
    {
     "name": "stdout",
     "output_type": "stream",
     "text": [
      "TOP-1000 nodes: shape: (1_000,)\n",
      "Series: 'node' [u32]\n",
      "[\n",
      "\t153740\n",
      "\t336245\n",
      "\t156093\n",
      "\t196448\n",
      "\t214253\n",
      "\t…\n",
      "\t71511\n",
      "\t71546\n",
      "\t71514\n",
      "\t170538\n",
      "\t151453\n",
      "]\n"
     ]
    }
   ],
   "source": [
    "# Выведем 1000 наиболее кликабельных групп товаров\n",
    "top_1000_nodes = node_clicks_count.tail(1000)['node']\n",
    "print('TOP-1000 nodes:', top_1000_nodes)"
   ]
  },
  {
   "cell_type": "code",
   "execution_count": 23,
   "id": "b5b4d5fd-9949-4a60-94f2-b2d20d7c04b8",
   "metadata": {},
   "outputs": [
    {
     "data": {
      "text/plain": [
       "(186.0, 20423.7)"
      ]
     },
     "execution_count": 23,
     "metadata": {},
     "output_type": "execute_result"
    }
   ],
   "source": [
    "node_clicks_count['count'].quantile(.95), 408474*0.05"
   ]
  },
  {
   "cell_type": "raw",
   "id": "12c43ca5-6cdd-4650-a996-29db2783f0a4",
   "metadata": {},
   "source": [
    "408474*0.05\n",
    "node_clicks_count_pd['count'].plot.box()\n",
    "plt.ylim(0, 100)  "
   ]
  },
  {
   "cell_type": "markdown",
   "id": "7e29c60c-714e-41f1-938e-cb41e2abb95f",
   "metadata": {},
   "source": [
    "**Как видно из таблиц выше:**\n",
    "- На большинство объявлений кликали 1-3 раза, максимальное кол-во кликов на одно объявление - 2 642 раза\n",
    "- Общая продолжительность отслеживания кликов - 1.5 месяца\n",
    "- Наиболее популярные платформы - 2, 3, 0, 5\n",
    "- Чаще всего кликали с экранов 2, 11, 5,3,15\n",
    "- У большинства групп товаров малое кол-во кликов - меньше 23, такие группы рекомендовать не стоит"
   ]
  },
  {
   "cell_type": "markdown",
   "id": "ff98af99-bd79-49b0-94b1-bd2823cb2bf3",
   "metadata": {},
   "source": [
    "## Изучим и опишем данные из таблицы df_cat_features"
   ]
  },
  {
   "cell_type": "code",
   "execution_count": 24,
   "id": "a7b29ec2-392c-424d-9449-2af25b67769a",
   "metadata": {},
   "outputs": [
    {
     "data": {
      "text/html": [
       "<div><style>\n",
       ".dataframe > thead > tr,\n",
       ".dataframe > tbody > tr {\n",
       "  text-align: right;\n",
       "  white-space: pre-wrap;\n",
       "}\n",
       "</style>\n",
       "<small>shape: (22_646_691, 5)</small><table border=\"1\" class=\"dataframe\"><thead><tr><th>item</th><th>location</th><th>category</th><th>clean_params</th><th>node</th></tr><tr><td>i64</td><td>i64</td><td>i64</td><td>str</td><td>u32</td></tr></thead><tbody><tr><td>9</td><td>8385</td><td>57</td><td>&quot;[{&quot;attr&quot;:1157,&quot;value&quot;:664427},…</td><td>194747</td></tr><tr><td>17</td><td>2707</td><td>35</td><td>&quot;[{&quot;attr&quot;:2140,&quot;value&quot;:501466},…</td><td>352905</td></tr><tr><td>144</td><td>8383</td><td>8</td><td>&quot;[{&quot;attr&quot;:802,&quot;value&quot;:35791},{&quot;…</td><td>17188</td></tr><tr><td>202</td><td>5397</td><td>57</td><td>&quot;[{&quot;attr&quot;:1157,&quot;value&quot;:490527},…</td><td>194766</td></tr><tr><td>236</td><td>2105</td><td>64</td><td>&quot;[{&quot;attr&quot;:112,&quot;value&quot;:420797},{…</td><td>153951</td></tr><tr><td>&hellip;</td><td>&hellip;</td><td>&hellip;</td><td>&hellip;</td><td>&hellip;</td></tr><tr><td>28804461</td><td>24</td><td>35</td><td>&quot;[{&quot;attr&quot;:2140,&quot;value&quot;:364348},…</td><td>326792</td></tr><tr><td>28804502</td><td>2305</td><td>51</td><td>&quot;[{&quot;attr&quot;:4622,&quot;value&quot;:171723},…</td><td>401208</td></tr><tr><td>28804563</td><td>2348</td><td>0</td><td>&quot;[{&quot;attr&quot;:914,&quot;value&quot;:93691},{&quot;…</td><td>13974</td></tr><tr><td>28804609</td><td>2348</td><td>51</td><td>&quot;[{&quot;attr&quot;:4622,&quot;value&quot;:618809},…</td><td>258971</td></tr><tr><td>28804620</td><td>2678</td><td>7</td><td>&quot;[{&quot;attr&quot;:4345,&quot;value&quot;:11210},{…</td><td>71511</td></tr></tbody></table></div>"
      ],
      "text/plain": [
       "shape: (22_646_691, 5)\n",
       "┌──────────┬──────────┬──────────┬─────────────────────────────────┬────────┐\n",
       "│ item     ┆ location ┆ category ┆ clean_params                    ┆ node   │\n",
       "│ ---      ┆ ---      ┆ ---      ┆ ---                             ┆ ---    │\n",
       "│ i64      ┆ i64      ┆ i64      ┆ str                             ┆ u32    │\n",
       "╞══════════╪══════════╪══════════╪═════════════════════════════════╪════════╡\n",
       "│ 9        ┆ 8385     ┆ 57       ┆ [{\"attr\":1157,\"value\":664427},… ┆ 194747 │\n",
       "│ 17       ┆ 2707     ┆ 35       ┆ [{\"attr\":2140,\"value\":501466},… ┆ 352905 │\n",
       "│ 144      ┆ 8383     ┆ 8        ┆ [{\"attr\":802,\"value\":35791},{\"… ┆ 17188  │\n",
       "│ 202      ┆ 5397     ┆ 57       ┆ [{\"attr\":1157,\"value\":490527},… ┆ 194766 │\n",
       "│ 236      ┆ 2105     ┆ 64       ┆ [{\"attr\":112,\"value\":420797},{… ┆ 153951 │\n",
       "│ …        ┆ …        ┆ …        ┆ …                               ┆ …      │\n",
       "│ 28804461 ┆ 24       ┆ 35       ┆ [{\"attr\":2140,\"value\":364348},… ┆ 326792 │\n",
       "│ 28804502 ┆ 2305     ┆ 51       ┆ [{\"attr\":4622,\"value\":171723},… ┆ 401208 │\n",
       "│ 28804563 ┆ 2348     ┆ 0        ┆ [{\"attr\":914,\"value\":93691},{\"… ┆ 13974  │\n",
       "│ 28804609 ┆ 2348     ┆ 51       ┆ [{\"attr\":4622,\"value\":618809},… ┆ 258971 │\n",
       "│ 28804620 ┆ 2678     ┆ 7        ┆ [{\"attr\":4345,\"value\":11210},{… ┆ 71511  │\n",
       "└──────────┴──────────┴──────────┴─────────────────────────────────┴────────┘"
      ]
     },
     "execution_count": 24,
     "metadata": {},
     "output_type": "execute_result"
    }
   ],
   "source": [
    "df_cat_features"
   ]
  },
  {
   "cell_type": "code",
   "execution_count": 25,
   "id": "0821aae8-df5b-413b-8ba6-63a124dc89a6",
   "metadata": {},
   "outputs": [
    {
     "data": {
      "text/plain": [
       "(22646691, 4823, 53, 408474)"
      ]
     },
     "execution_count": 25,
     "metadata": {},
     "output_type": "execute_result"
    }
   ],
   "source": [
    "df_cat_features['item'].n_unique(), \n",
    "df_cat_features['location'].n_unique(), \n",
    "df_cat_features['category'].n_unique(), \n",
    "df_cat_features['node'].n_unique()"
   ]
  },
  {
   "cell_type": "code",
   "execution_count": 26,
   "id": "fa8e4f7a-f354-439a-9147-f15d75ed5c99",
   "metadata": {},
   "outputs": [
    {
     "data": {
      "text/html": [
       "<div><style>\n",
       ".dataframe > thead > tr,\n",
       ".dataframe > tbody > tr {\n",
       "  text-align: right;\n",
       "  white-space: pre-wrap;\n",
       "}\n",
       "</style>\n",
       "<small>shape: (9, 6)</small><table border=\"1\" class=\"dataframe\"><thead><tr><th>statistic</th><th>item</th><th>location</th><th>category</th><th>clean_params</th><th>node</th></tr><tr><td>str</td><td>f64</td><td>f64</td><td>f64</td><td>str</td><td>f64</td></tr></thead><tbody><tr><td>&quot;count&quot;</td><td>2.2646691e7</td><td>2.264669e7</td><td>2.264669e7</td><td>&quot;22646691&quot;</td><td>2.2646691e7</td></tr><tr><td>&quot;null_count&quot;</td><td>0.0</td><td>1.0</td><td>1.0</td><td>&quot;0&quot;</td><td>0.0</td></tr><tr><td>&quot;mean&quot;</td><td>1.4402e7</td><td>4349.799844</td><td>35.778449</td><td>null</td><td>173768.117695</td></tr><tr><td>&quot;std&quot;</td><td>8.3149e6</td><td>2580.792016</td><td>15.774887</td><td>null</td><td>93004.255815</td></tr><tr><td>&quot;min&quot;</td><td>0.0</td><td>0.0</td><td>0.0</td><td>&quot;[]&quot;</td><td>1.0</td></tr><tr><td>&quot;25%&quot;</td><td>7.201417e6</td><td>2348.0</td><td>24.0</td><td>null</td><td>116118.0</td></tr><tr><td>&quot;50%&quot;</td><td>1.4402191e7</td><td>3707.0</td><td>35.0</td><td>null</td><td>170538.0</td></tr><tr><td>&quot;75%&quot;</td><td>2.160266e7</td><td>6773.0</td><td>51.0</td><td>null</td><td>229443.0</td></tr><tr><td>&quot;max&quot;</td><td>2.8804867e7</td><td>9579.0</td><td>64.0</td><td>&quot;[{&quot;attr&quot;:979,&quot;value&quot;:795287},{…</td><td>424068.0</td></tr></tbody></table></div>"
      ],
      "text/plain": [
       "shape: (9, 6)\n",
       "┌────────────┬─────────────┬─────────────┬────────────┬────────────────────────────┬───────────────┐\n",
       "│ statistic  ┆ item        ┆ location    ┆ category   ┆ clean_params               ┆ node          │\n",
       "│ ---        ┆ ---         ┆ ---         ┆ ---        ┆ ---                        ┆ ---           │\n",
       "│ str        ┆ f64         ┆ f64         ┆ f64        ┆ str                        ┆ f64           │\n",
       "╞════════════╪═════════════╪═════════════╪════════════╪════════════════════════════╪═══════════════╡\n",
       "│ count      ┆ 2.2646691e7 ┆ 2.264669e7  ┆ 2.264669e7 ┆ 22646691                   ┆ 2.2646691e7   │\n",
       "│ null_count ┆ 0.0         ┆ 1.0         ┆ 1.0        ┆ 0                          ┆ 0.0           │\n",
       "│ mean       ┆ 1.4402e7    ┆ 4349.799844 ┆ 35.778449  ┆ null                       ┆ 173768.117695 │\n",
       "│ std        ┆ 8.3149e6    ┆ 2580.792016 ┆ 15.774887  ┆ null                       ┆ 93004.255815  │\n",
       "│ min        ┆ 0.0         ┆ 0.0         ┆ 0.0        ┆ []                         ┆ 1.0           │\n",
       "│ 25%        ┆ 7.201417e6  ┆ 2348.0      ┆ 24.0       ┆ null                       ┆ 116118.0      │\n",
       "│ 50%        ┆ 1.4402191e7 ┆ 3707.0      ┆ 35.0       ┆ null                       ┆ 170538.0      │\n",
       "│ 75%        ┆ 2.160266e7  ┆ 6773.0      ┆ 51.0       ┆ null                       ┆ 229443.0      │\n",
       "│ max        ┆ 2.8804867e7 ┆ 9579.0      ┆ 64.0       ┆ [{\"attr\":979,\"value\":79528 ┆ 424068.0      │\n",
       "│            ┆             ┆             ┆            ┆ 7},{…                      ┆               │\n",
       "└────────────┴─────────────┴─────────────┴────────────┴────────────────────────────┴───────────────┘"
      ]
     },
     "execution_count": 26,
     "metadata": {},
     "output_type": "execute_result"
    }
   ],
   "source": [
    "df_cat_features.describe()"
   ]
  },
  {
   "cell_type": "code",
   "execution_count": 29,
   "id": "900a7020-5219-4b27-af2f-ca323e070edb",
   "metadata": {},
   "outputs": [
    {
     "name": "stdout",
     "output_type": "stream",
     "text": [
      "CLICKS COUNT count distr (value_counts) for column \"location\":\n"
     ]
    },
    {
     "data": {
      "text/html": [
       "<div><style>\n",
       ".dataframe > thead > tr,\n",
       ".dataframe > tbody > tr {\n",
       "  text-align: right;\n",
       "  white-space: pre-wrap;\n",
       "}\n",
       "</style>\n",
       "<small>shape: (4_823, 2)</small><table border=\"1\" class=\"dataframe\"><thead><tr><th>location</th><th>count</th></tr><tr><td>i64</td><td>u32</td></tr></thead><tbody><tr><td>8507</td><td>1</td></tr><tr><td>5361</td><td>1</td></tr><tr><td>1962</td><td>1</td></tr><tr><td>3025</td><td>1</td></tr><tr><td>2552</td><td>1</td></tr><tr><td>&hellip;</td><td>&hellip;</td></tr><tr><td>4283</td><td>367549</td></tr><tr><td>8205</td><td>447617</td></tr><tr><td>8383</td><td>582408</td></tr><tr><td>2269</td><td>1699782</td></tr><tr><td>2348</td><td>4305927</td></tr></tbody></table></div>"
      ],
      "text/plain": [
       "shape: (4_823, 2)\n",
       "┌──────────┬─────────┐\n",
       "│ location ┆ count   │\n",
       "│ ---      ┆ ---     │\n",
       "│ i64      ┆ u32     │\n",
       "╞══════════╪═════════╡\n",
       "│ 8507     ┆ 1       │\n",
       "│ 5361     ┆ 1       │\n",
       "│ 1962     ┆ 1       │\n",
       "│ 3025     ┆ 1       │\n",
       "│ 2552     ┆ 1       │\n",
       "│ …        ┆ …       │\n",
       "│ 4283     ┆ 367549  │\n",
       "│ 8205     ┆ 447617  │\n",
       "│ 8383     ┆ 582408  │\n",
       "│ 2269     ┆ 1699782 │\n",
       "│ 2348     ┆ 4305927 │\n",
       "└──────────┴─────────┘"
      ]
     },
     "metadata": {},
     "output_type": "display_data"
    },
    {
     "name": "stdout",
     "output_type": "stream",
     "text": [
      "===DESCRIBE===\n"
     ]
    },
    {
     "data": {
      "text/html": [
       "<div><style>\n",
       ".dataframe > thead > tr,\n",
       ".dataframe > tbody > tr {\n",
       "  text-align: right;\n",
       "  white-space: pre-wrap;\n",
       "}\n",
       "</style>\n",
       "<small>shape: (9, 3)</small><table border=\"1\" class=\"dataframe\"><thead><tr><th>statistic</th><th>location</th><th>count</th></tr><tr><td>str</td><td>f64</td><td>f64</td></tr></thead><tbody><tr><td>&quot;count&quot;</td><td>4822.0</td><td>4823.0</td></tr><tr><td>&quot;null_count&quot;</td><td>1.0</td><td>0.0</td></tr><tr><td>&quot;mean&quot;</td><td>4783.462256</td><td>4695.561062</td></tr><tr><td>&quot;std&quot;</td><td>2766.026873</td><td>70148.581565</td></tr><tr><td>&quot;min&quot;</td><td>0.0</td><td>1.0</td></tr><tr><td>&quot;25%&quot;</td><td>2417.0</td><td>17.0</td></tr><tr><td>&quot;50%&quot;</td><td>4748.0</td><td>217.0</td></tr><tr><td>&quot;75%&quot;</td><td>7170.0</td><td>723.0</td></tr><tr><td>&quot;max&quot;</td><td>9579.0</td><td>4.305927e6</td></tr></tbody></table></div>"
      ],
      "text/plain": [
       "shape: (9, 3)\n",
       "┌────────────┬─────────────┬──────────────┐\n",
       "│ statistic  ┆ location    ┆ count        │\n",
       "│ ---        ┆ ---         ┆ ---          │\n",
       "│ str        ┆ f64         ┆ f64          │\n",
       "╞════════════╪═════════════╪══════════════╡\n",
       "│ count      ┆ 4822.0      ┆ 4823.0       │\n",
       "│ null_count ┆ 1.0         ┆ 0.0          │\n",
       "│ mean       ┆ 4783.462256 ┆ 4695.561062  │\n",
       "│ std        ┆ 2766.026873 ┆ 70148.581565 │\n",
       "│ min        ┆ 0.0         ┆ 1.0          │\n",
       "│ 25%        ┆ 2417.0      ┆ 17.0         │\n",
       "│ 50%        ┆ 4748.0      ┆ 217.0        │\n",
       "│ 75%        ┆ 7170.0      ┆ 723.0        │\n",
       "│ max        ┆ 9579.0      ┆ 4.305927e6   │\n",
       "└────────────┴─────────────┴──────────────┘"
      ]
     },
     "metadata": {},
     "output_type": "display_data"
    },
    {
     "name": "stdout",
     "output_type": "stream",
     "text": [
      "===HIST===\n"
     ]
    },
    {
     "data": {
      "text/html": [
       "<div><style>\n",
       ".dataframe > thead > tr,\n",
       ".dataframe > tbody > tr {\n",
       "  text-align: right;\n",
       "  white-space: pre-wrap;\n",
       "}\n",
       "</style>\n",
       "<small>shape: (10, 3)</small><table border=\"1\" class=\"dataframe\"><thead><tr><th>breakpoint</th><th>category</th><th>count</th></tr><tr><td>f64</td><td>cat</td><td>u32</td></tr></thead><tbody><tr><td>430593.6</td><td>&quot;(-4304.926, 430593.6]&quot;</td><td>4819</td></tr><tr><td>861186.2</td><td>&quot;(430593.6, 861186.2]&quot;</td><td>2</td></tr><tr><td>1.2918e6</td><td>&quot;(861186.2, 1.2918e6]&quot;</td><td>0</td></tr><tr><td>1722371.4</td><td>&quot;(1.2918e6, 1722371.4]&quot;</td><td>1</td></tr><tr><td>2.152964e6</td><td>&quot;(1722371.4, 2.152964e6]&quot;</td><td>0</td></tr><tr><td>2.5836e6</td><td>&quot;(2.152964e6, 2.5836e6]&quot;</td><td>0</td></tr><tr><td>3.0141e6</td><td>&quot;(2.5836e6, 3.0141e6]&quot;</td><td>0</td></tr><tr><td>3444741.8</td><td>&quot;(3.0141e6, 3444741.8]&quot;</td><td>0</td></tr><tr><td>3875334.4</td><td>&quot;(3444741.8, 3875334.4]&quot;</td><td>0</td></tr><tr><td>4.305927e6</td><td>&quot;(3875334.4, 4.305927e6]&quot;</td><td>1</td></tr></tbody></table></div>"
      ],
      "text/plain": [
       "shape: (10, 3)\n",
       "┌────────────┬─────────────────────────┬───────┐\n",
       "│ breakpoint ┆ category                ┆ count │\n",
       "│ ---        ┆ ---                     ┆ ---   │\n",
       "│ f64        ┆ cat                     ┆ u32   │\n",
       "╞════════════╪═════════════════════════╪═══════╡\n",
       "│ 430593.6   ┆ (-4304.926, 430593.6]   ┆ 4819  │\n",
       "│ 861186.2   ┆ (430593.6, 861186.2]    ┆ 2     │\n",
       "│ 1.2918e6   ┆ (861186.2, 1.2918e6]    ┆ 0     │\n",
       "│ 1722371.4  ┆ (1.2918e6, 1722371.4]   ┆ 1     │\n",
       "│ 2.152964e6 ┆ (1722371.4, 2.152964e6] ┆ 0     │\n",
       "│ 2.5836e6   ┆ (2.152964e6, 2.5836e6]  ┆ 0     │\n",
       "│ 3.0141e6   ┆ (2.5836e6, 3.0141e6]    ┆ 0     │\n",
       "│ 3444741.8  ┆ (3.0141e6, 3444741.8]   ┆ 0     │\n",
       "│ 3875334.4  ┆ (3444741.8, 3875334.4]  ┆ 0     │\n",
       "│ 4.305927e6 ┆ (3875334.4, 4.305927e6] ┆ 1     │\n",
       "└────────────┴─────────────────────────┴───────┘"
      ]
     },
     "metadata": {},
     "output_type": "display_data"
    }
   ],
   "source": [
    "# Распределение кол-ва объявлений по локациям\n",
    "locations_count = calc_dist_param('location', data=df_cat_features)"
   ]
  },
  {
   "cell_type": "code",
   "execution_count": 30,
   "id": "c716f0fd-c14d-4e25-babc-1e7526fdfb10",
   "metadata": {},
   "outputs": [
    {
     "data": {
      "text/html": [
       "<div><style>\n",
       ".dataframe > thead > tr,\n",
       ".dataframe > tbody > tr {\n",
       "  text-align: right;\n",
       "  white-space: pre-wrap;\n",
       "}\n",
       "</style>\n",
       "<small>shape: (10, 3)</small><table border=\"1\" class=\"dataframe\"><thead><tr><th>breakpoint</th><th>category</th><th>count</th></tr><tr><td>f64</td><td>cat</td><td>u32</td></tr></thead><tbody><tr><td>430593.6</td><td>&quot;(-4304.926, 430593.6]&quot;</td><td>4819</td></tr><tr><td>861186.2</td><td>&quot;(430593.6, 861186.2]&quot;</td><td>2</td></tr><tr><td>1.2918e6</td><td>&quot;(861186.2, 1.2918e6]&quot;</td><td>0</td></tr><tr><td>1722371.4</td><td>&quot;(1.2918e6, 1722371.4]&quot;</td><td>1</td></tr><tr><td>2.152964e6</td><td>&quot;(1722371.4, 2.152964e6]&quot;</td><td>0</td></tr><tr><td>2.5836e6</td><td>&quot;(2.152964e6, 2.5836e6]&quot;</td><td>0</td></tr><tr><td>3.0141e6</td><td>&quot;(2.5836e6, 3.0141e6]&quot;</td><td>0</td></tr><tr><td>3444741.8</td><td>&quot;(3.0141e6, 3444741.8]&quot;</td><td>0</td></tr><tr><td>3875334.4</td><td>&quot;(3444741.8, 3875334.4]&quot;</td><td>0</td></tr><tr><td>4.305927e6</td><td>&quot;(3875334.4, 4.305927e6]&quot;</td><td>1</td></tr></tbody></table></div>"
      ],
      "text/plain": [
       "shape: (10, 3)\n",
       "┌────────────┬─────────────────────────┬───────┐\n",
       "│ breakpoint ┆ category                ┆ count │\n",
       "│ ---        ┆ ---                     ┆ ---   │\n",
       "│ f64        ┆ cat                     ┆ u32   │\n",
       "╞════════════╪═════════════════════════╪═══════╡\n",
       "│ 430593.6   ┆ (-4304.926, 430593.6]   ┆ 4819  │\n",
       "│ 861186.2   ┆ (430593.6, 861186.2]    ┆ 2     │\n",
       "│ 1.2918e6   ┆ (861186.2, 1.2918e6]    ┆ 0     │\n",
       "│ 1722371.4  ┆ (1.2918e6, 1722371.4]   ┆ 1     │\n",
       "│ 2.152964e6 ┆ (1722371.4, 2.152964e6] ┆ 0     │\n",
       "│ 2.5836e6   ┆ (2.152964e6, 2.5836e6]  ┆ 0     │\n",
       "│ 3.0141e6   ┆ (2.5836e6, 3.0141e6]    ┆ 0     │\n",
       "│ 3444741.8  ┆ (3.0141e6, 3444741.8]   ┆ 0     │\n",
       "│ 3875334.4  ┆ (3444741.8, 3875334.4]  ┆ 0     │\n",
       "│ 4.305927e6 ┆ (3875334.4, 4.305927e6] ┆ 1     │\n",
       "└────────────┴─────────────────────────┴───────┘"
      ]
     },
     "execution_count": 30,
     "metadata": {},
     "output_type": "execute_result"
    }
   ],
   "source": [
    "locations_count['count'].hist()"
   ]
  },
  {
   "cell_type": "code",
   "execution_count": 31,
   "id": "a90edea2-8c40-4213-a1ce-8a61fbb6b514",
   "metadata": {},
   "outputs": [
    {
     "name": "stdout",
     "output_type": "stream",
     "text": [
      "CLICKS COUNT count distr (value_counts) for column \"category\":\n"
     ]
    },
    {
     "data": {
      "text/html": [
       "<div><style>\n",
       ".dataframe > thead > tr,\n",
       ".dataframe > tbody > tr {\n",
       "  text-align: right;\n",
       "  white-space: pre-wrap;\n",
       "}\n",
       "</style>\n",
       "<small>shape: (53, 2)</small><table border=\"1\" class=\"dataframe\"><thead><tr><th>category</th><th>count</th></tr><tr><td>i64</td><td>u32</td></tr></thead><tbody><tr><td>null</td><td>1</td></tr><tr><td>60</td><td>2</td></tr><tr><td>2</td><td>2421</td></tr><tr><td>11</td><td>6423</td></tr><tr><td>47</td><td>32284</td></tr><tr><td>&hellip;</td><td>&hellip;</td></tr><tr><td>40</td><td>1120838</td></tr><tr><td>24</td><td>1134356</td></tr><tr><td>19</td><td>1280756</td></tr><tr><td>51</td><td>2341955</td></tr><tr><td>35</td><td>3693923</td></tr></tbody></table></div>"
      ],
      "text/plain": [
       "shape: (53, 2)\n",
       "┌──────────┬─────────┐\n",
       "│ category ┆ count   │\n",
       "│ ---      ┆ ---     │\n",
       "│ i64      ┆ u32     │\n",
       "╞══════════╪═════════╡\n",
       "│ null     ┆ 1       │\n",
       "│ 60       ┆ 2       │\n",
       "│ 2        ┆ 2421    │\n",
       "│ 11       ┆ 6423    │\n",
       "│ 47       ┆ 32284   │\n",
       "│ …        ┆ …       │\n",
       "│ 40       ┆ 1120838 │\n",
       "│ 24       ┆ 1134356 │\n",
       "│ 19       ┆ 1280756 │\n",
       "│ 51       ┆ 2341955 │\n",
       "│ 35       ┆ 3693923 │\n",
       "└──────────┴─────────┘"
      ]
     },
     "metadata": {},
     "output_type": "display_data"
    },
    {
     "name": "stdout",
     "output_type": "stream",
     "text": [
      "===DESCRIBE===\n"
     ]
    },
    {
     "data": {
      "text/html": [
       "<div><style>\n",
       ".dataframe > thead > tr,\n",
       ".dataframe > tbody > tr {\n",
       "  text-align: right;\n",
       "  white-space: pre-wrap;\n",
       "}\n",
       "</style>\n",
       "<small>shape: (9, 3)</small><table border=\"1\" class=\"dataframe\"><thead><tr><th>statistic</th><th>category</th><th>count</th></tr><tr><td>str</td><td>f64</td><td>f64</td></tr></thead><tbody><tr><td>&quot;count&quot;</td><td>52.0</td><td>53.0</td></tr><tr><td>&quot;null_count&quot;</td><td>1.0</td><td>0.0</td></tr><tr><td>&quot;mean&quot;</td><td>32.0</td><td>427296.056604</td></tr><tr><td>&quot;std&quot;</td><td>19.247613</td><td>633616.931597</td></tr><tr><td>&quot;min&quot;</td><td>0.0</td><td>1.0</td></tr><tr><td>&quot;25%&quot;</td><td>15.0</td><td>94309.0</td></tr><tr><td>&quot;50%&quot;</td><td>32.0</td><td>167266.0</td></tr><tr><td>&quot;75%&quot;</td><td>48.0</td><td>520896.0</td></tr><tr><td>&quot;max&quot;</td><td>64.0</td><td>3.693923e6</td></tr></tbody></table></div>"
      ],
      "text/plain": [
       "shape: (9, 3)\n",
       "┌────────────┬───────────┬───────────────┐\n",
       "│ statistic  ┆ category  ┆ count         │\n",
       "│ ---        ┆ ---       ┆ ---           │\n",
       "│ str        ┆ f64       ┆ f64           │\n",
       "╞════════════╪═══════════╪═══════════════╡\n",
       "│ count      ┆ 52.0      ┆ 53.0          │\n",
       "│ null_count ┆ 1.0       ┆ 0.0           │\n",
       "│ mean       ┆ 32.0      ┆ 427296.056604 │\n",
       "│ std        ┆ 19.247613 ┆ 633616.931597 │\n",
       "│ min        ┆ 0.0       ┆ 1.0           │\n",
       "│ 25%        ┆ 15.0      ┆ 94309.0       │\n",
       "│ 50%        ┆ 32.0      ┆ 167266.0      │\n",
       "│ 75%        ┆ 48.0      ┆ 520896.0      │\n",
       "│ max        ┆ 64.0      ┆ 3.693923e6    │\n",
       "└────────────┴───────────┴───────────────┘"
      ]
     },
     "metadata": {},
     "output_type": "display_data"
    },
    {
     "name": "stdout",
     "output_type": "stream",
     "text": [
      "===HIST===\n"
     ]
    },
    {
     "data": {
      "text/html": [
       "<div><style>\n",
       ".dataframe > thead > tr,\n",
       ".dataframe > tbody > tr {\n",
       "  text-align: right;\n",
       "  white-space: pre-wrap;\n",
       "}\n",
       "</style>\n",
       "<small>shape: (10, 3)</small><table border=\"1\" class=\"dataframe\"><thead><tr><th>breakpoint</th><th>category</th><th>count</th></tr><tr><td>f64</td><td>cat</td><td>u32</td></tr></thead><tbody><tr><td>369393.2</td><td>&quot;(-3692.922, 369393.2]&quot;</td><td>35</td></tr><tr><td>738785.4</td><td>&quot;(369393.2, 738785.4]&quot;</td><td>7</td></tr><tr><td>1108177.6</td><td>&quot;(738785.4, 1108177.6]&quot;</td><td>6</td></tr><tr><td>1477569.8</td><td>&quot;(1108177.6, 1477569.8]&quot;</td><td>3</td></tr><tr><td>1.846962e6</td><td>&quot;(1477569.8, 1.846962e6]&quot;</td><td>0</td></tr><tr><td>2216354.2</td><td>&quot;(1.846962e6, 2216354.2]&quot;</td><td>0</td></tr><tr><td>2585746.4</td><td>&quot;(2216354.2, 2585746.4]&quot;</td><td>1</td></tr><tr><td>2955138.6</td><td>&quot;(2585746.4, 2955138.6]&quot;</td><td>0</td></tr><tr><td>3.3245e6</td><td>&quot;(2955138.6, 3.3245e6]&quot;</td><td>0</td></tr><tr><td>3.693923e6</td><td>&quot;(3.3245e6, 3.693923e6]&quot;</td><td>1</td></tr></tbody></table></div>"
      ],
      "text/plain": [
       "shape: (10, 3)\n",
       "┌────────────┬─────────────────────────┬───────┐\n",
       "│ breakpoint ┆ category                ┆ count │\n",
       "│ ---        ┆ ---                     ┆ ---   │\n",
       "│ f64        ┆ cat                     ┆ u32   │\n",
       "╞════════════╪═════════════════════════╪═══════╡\n",
       "│ 369393.2   ┆ (-3692.922, 369393.2]   ┆ 35    │\n",
       "│ 738785.4   ┆ (369393.2, 738785.4]    ┆ 7     │\n",
       "│ 1108177.6  ┆ (738785.4, 1108177.6]   ┆ 6     │\n",
       "│ 1477569.8  ┆ (1108177.6, 1477569.8]  ┆ 3     │\n",
       "│ 1.846962e6 ┆ (1477569.8, 1.846962e6] ┆ 0     │\n",
       "│ 2216354.2  ┆ (1.846962e6, 2216354.2] ┆ 0     │\n",
       "│ 2585746.4  ┆ (2216354.2, 2585746.4]  ┆ 1     │\n",
       "│ 2955138.6  ┆ (2585746.4, 2955138.6]  ┆ 0     │\n",
       "│ 3.3245e6   ┆ (2955138.6, 3.3245e6]   ┆ 0     │\n",
       "│ 3.693923e6 ┆ (3.3245e6, 3.693923e6]  ┆ 1     │\n",
       "└────────────┴─────────────────────────┴───────┘"
      ]
     },
     "metadata": {},
     "output_type": "display_data"
    },
    {
     "data": {
      "text/html": [
       "<div><style>\n",
       ".dataframe > thead > tr,\n",
       ".dataframe > tbody > tr {\n",
       "  text-align: right;\n",
       "  white-space: pre-wrap;\n",
       "}\n",
       "</style>\n",
       "<small>shape: (53, 2)</small><table border=\"1\" class=\"dataframe\"><thead><tr><th>category</th><th>count</th></tr><tr><td>i64</td><td>u32</td></tr></thead><tbody><tr><td>null</td><td>1</td></tr><tr><td>60</td><td>2</td></tr><tr><td>2</td><td>2421</td></tr><tr><td>11</td><td>6423</td></tr><tr><td>47</td><td>32284</td></tr><tr><td>&hellip;</td><td>&hellip;</td></tr><tr><td>40</td><td>1120838</td></tr><tr><td>24</td><td>1134356</td></tr><tr><td>19</td><td>1280756</td></tr><tr><td>51</td><td>2341955</td></tr><tr><td>35</td><td>3693923</td></tr></tbody></table></div>"
      ],
      "text/plain": [
       "shape: (53, 2)\n",
       "┌──────────┬─────────┐\n",
       "│ category ┆ count   │\n",
       "│ ---      ┆ ---     │\n",
       "│ i64      ┆ u32     │\n",
       "╞══════════╪═════════╡\n",
       "│ null     ┆ 1       │\n",
       "│ 60       ┆ 2       │\n",
       "│ 2        ┆ 2421    │\n",
       "│ 11       ┆ 6423    │\n",
       "│ 47       ┆ 32284   │\n",
       "│ …        ┆ …       │\n",
       "│ 40       ┆ 1120838 │\n",
       "│ 24       ┆ 1134356 │\n",
       "│ 19       ┆ 1280756 │\n",
       "│ 51       ┆ 2341955 │\n",
       "│ 35       ┆ 3693923 │\n",
       "└──────────┴─────────┘"
      ]
     },
     "execution_count": 31,
     "metadata": {},
     "output_type": "execute_result"
    }
   ],
   "source": [
    "# Распределение кол-ва объявлений по категориям\n",
    "calc_dist_param('category', data=df_cat_features)"
   ]
  },
  {
   "cell_type": "raw",
   "id": "15ea0275-dd37-461e-b124-97a0bcec6cb9",
   "metadata": {},
   "source": [
    "categories_count_pd = categories_count.to_pandas()\n",
    "range=(0,3.693923e6)\n",
    "categories_count_pd['count'].plot.box()\n",
    "plt.title(range)\n",
    "plt.show()"
   ]
  },
  {
   "cell_type": "code",
   "execution_count": 32,
   "id": "424e9c49-c8a4-402b-a740-cb4c347e1b73",
   "metadata": {},
   "outputs": [
    {
     "name": "stdout",
     "output_type": "stream",
     "text": [
      "CLICKS COUNT count distr (value_counts) for column \"node\":\n"
     ]
    },
    {
     "data": {
      "text/html": [
       "<div><style>\n",
       ".dataframe > thead > tr,\n",
       ".dataframe > tbody > tr {\n",
       "  text-align: right;\n",
       "  white-space: pre-wrap;\n",
       "}\n",
       "</style>\n",
       "<small>shape: (408_474, 2)</small><table border=\"1\" class=\"dataframe\"><thead><tr><th>node</th><th>count</th></tr><tr><td>u32</td><td>u32</td></tr></thead><tbody><tr><td>423357</td><td>1</td></tr><tr><td>178900</td><td>1</td></tr><tr><td>163734</td><td>1</td></tr><tr><td>174008</td><td>1</td></tr><tr><td>325100</td><td>1</td></tr><tr><td>&hellip;</td><td>&hellip;</td></tr><tr><td>71546</td><td>136767</td></tr><tr><td>71511</td><td>146887</td></tr><tr><td>71514</td><td>185301</td></tr><tr><td>151453</td><td>307435</td></tr><tr><td>170538</td><td>463451</td></tr></tbody></table></div>"
      ],
      "text/plain": [
       "shape: (408_474, 2)\n",
       "┌────────┬────────┐\n",
       "│ node   ┆ count  │\n",
       "│ ---    ┆ ---    │\n",
       "│ u32    ┆ u32    │\n",
       "╞════════╪════════╡\n",
       "│ 423357 ┆ 1      │\n",
       "│ 178900 ┆ 1      │\n",
       "│ 163734 ┆ 1      │\n",
       "│ 174008 ┆ 1      │\n",
       "│ 325100 ┆ 1      │\n",
       "│ …      ┆ …      │\n",
       "│ 71546  ┆ 136767 │\n",
       "│ 71511  ┆ 146887 │\n",
       "│ 71514  ┆ 185301 │\n",
       "│ 151453 ┆ 307435 │\n",
       "│ 170538 ┆ 463451 │\n",
       "└────────┴────────┘"
      ]
     },
     "metadata": {},
     "output_type": "display_data"
    },
    {
     "name": "stdout",
     "output_type": "stream",
     "text": [
      "===DESCRIBE===\n"
     ]
    },
    {
     "data": {
      "text/html": [
       "<div><style>\n",
       ".dataframe > thead > tr,\n",
       ".dataframe > tbody > tr {\n",
       "  text-align: right;\n",
       "  white-space: pre-wrap;\n",
       "}\n",
       "</style>\n",
       "<small>shape: (9, 3)</small><table border=\"1\" class=\"dataframe\"><thead><tr><th>statistic</th><th>node</th><th>count</th></tr><tr><td>str</td><td>f64</td><td>f64</td></tr></thead><tbody><tr><td>&quot;count&quot;</td><td>408474.0</td><td>408474.0</td></tr><tr><td>&quot;null_count&quot;</td><td>0.0</td><td>0.0</td></tr><tr><td>&quot;mean&quot;</td><td>211451.832327</td><td>55.442185</td></tr><tr><td>&quot;std&quot;</td><td>122084.237383</td><td>1355.580579</td></tr><tr><td>&quot;min&quot;</td><td>1.0</td><td>1.0</td></tr><tr><td>&quot;25%&quot;</td><td>106081.0</td><td>1.0</td></tr><tr><td>&quot;50%&quot;</td><td>210711.0</td><td>3.0</td></tr><tr><td>&quot;75%&quot;</td><td>316972.0</td><td>8.0</td></tr><tr><td>&quot;max&quot;</td><td>424068.0</td><td>463451.0</td></tr></tbody></table></div>"
      ],
      "text/plain": [
       "shape: (9, 3)\n",
       "┌────────────┬───────────────┬─────────────┐\n",
       "│ statistic  ┆ node          ┆ count       │\n",
       "│ ---        ┆ ---           ┆ ---         │\n",
       "│ str        ┆ f64           ┆ f64         │\n",
       "╞════════════╪═══════════════╪═════════════╡\n",
       "│ count      ┆ 408474.0      ┆ 408474.0    │\n",
       "│ null_count ┆ 0.0           ┆ 0.0         │\n",
       "│ mean       ┆ 211451.832327 ┆ 55.442185   │\n",
       "│ std        ┆ 122084.237383 ┆ 1355.580579 │\n",
       "│ min        ┆ 1.0           ┆ 1.0         │\n",
       "│ 25%        ┆ 106081.0      ┆ 1.0         │\n",
       "│ 50%        ┆ 210711.0      ┆ 3.0         │\n",
       "│ 75%        ┆ 316972.0      ┆ 8.0         │\n",
       "│ max        ┆ 424068.0      ┆ 463451.0    │\n",
       "└────────────┴───────────────┴─────────────┘"
      ]
     },
     "metadata": {},
     "output_type": "display_data"
    },
    {
     "name": "stdout",
     "output_type": "stream",
     "text": [
      "===HIST===\n"
     ]
    },
    {
     "data": {
      "text/html": [
       "<div><style>\n",
       ".dataframe > thead > tr,\n",
       ".dataframe > tbody > tr {\n",
       "  text-align: right;\n",
       "  white-space: pre-wrap;\n",
       "}\n",
       "</style>\n",
       "<small>shape: (10, 3)</small><table border=\"1\" class=\"dataframe\"><thead><tr><th>breakpoint</th><th>category</th><th>count</th></tr><tr><td>f64</td><td>cat</td><td>u32</td></tr></thead><tbody><tr><td>46346.0</td><td>&quot;(-462.45, 46346.0]&quot;</td><td>408433</td></tr><tr><td>92691.0</td><td>&quot;(46346.0, 92691.0]&quot;</td><td>29</td></tr><tr><td>139036.0</td><td>&quot;(92691.0, 139036.0]&quot;</td><td>8</td></tr><tr><td>185381.0</td><td>&quot;(139036.0, 185381.0]&quot;</td><td>2</td></tr><tr><td>231726.0</td><td>&quot;(185381.0, 231726.0]&quot;</td><td>0</td></tr><tr><td>278071.0</td><td>&quot;(231726.0, 278071.0]&quot;</td><td>0</td></tr><tr><td>324416.0</td><td>&quot;(278071.0, 324416.0]&quot;</td><td>1</td></tr><tr><td>370761.0</td><td>&quot;(324416.0, 370761.0]&quot;</td><td>0</td></tr><tr><td>417106.0</td><td>&quot;(370761.0, 417106.0]&quot;</td><td>0</td></tr><tr><td>463451.0</td><td>&quot;(417106.0, 463451.0]&quot;</td><td>1</td></tr></tbody></table></div>"
      ],
      "text/plain": [
       "shape: (10, 3)\n",
       "┌────────────┬──────────────────────┬────────┐\n",
       "│ breakpoint ┆ category             ┆ count  │\n",
       "│ ---        ┆ ---                  ┆ ---    │\n",
       "│ f64        ┆ cat                  ┆ u32    │\n",
       "╞════════════╪══════════════════════╪════════╡\n",
       "│ 46346.0    ┆ (-462.45, 46346.0]   ┆ 408433 │\n",
       "│ 92691.0    ┆ (46346.0, 92691.0]   ┆ 29     │\n",
       "│ 139036.0   ┆ (92691.0, 139036.0]  ┆ 8      │\n",
       "│ 185381.0   ┆ (139036.0, 185381.0] ┆ 2      │\n",
       "│ 231726.0   ┆ (185381.0, 231726.0] ┆ 0      │\n",
       "│ 278071.0   ┆ (231726.0, 278071.0] ┆ 0      │\n",
       "│ 324416.0   ┆ (278071.0, 324416.0] ┆ 1      │\n",
       "│ 370761.0   ┆ (324416.0, 370761.0] ┆ 0      │\n",
       "│ 417106.0   ┆ (370761.0, 417106.0] ┆ 0      │\n",
       "│ 463451.0   ┆ (417106.0, 463451.0] ┆ 1      │\n",
       "└────────────┴──────────────────────┴────────┘"
      ]
     },
     "metadata": {},
     "output_type": "display_data"
    }
   ],
   "source": [
    "# Распределение кол-ва объявлений по группам товаров\n",
    "nodes_count = calc_dist_param('node', data=df_cat_features)"
   ]
  },
  {
   "cell_type": "code",
   "execution_count": 33,
   "id": "6d481a6a-89bc-4d34-b73b-3830310bdbbf",
   "metadata": {},
   "outputs": [
    {
     "data": {
      "text/html": [
       "<div><style>\n",
       ".dataframe > thead > tr,\n",
       ".dataframe > tbody > tr {\n",
       "  text-align: right;\n",
       "  white-space: pre-wrap;\n",
       "}\n",
       "</style>\n",
       "<small>shape: (10, 2)</small><table border=\"1\" class=\"dataframe\"><thead><tr><th>node</th><th>count</th></tr><tr><td>u32</td><td>u32</td></tr></thead><tbody><tr><td>166419</td><td>97420</td></tr><tr><td>2650</td><td>100871</td></tr><tr><td>166129</td><td>107526</td></tr><tr><td>71520</td><td>117759</td></tr><tr><td>214198</td><td>129851</td></tr><tr><td>71546</td><td>136767</td></tr><tr><td>71511</td><td>146887</td></tr><tr><td>71514</td><td>185301</td></tr><tr><td>151453</td><td>307435</td></tr><tr><td>170538</td><td>463451</td></tr></tbody></table></div>"
      ],
      "text/plain": [
       "shape: (10, 2)\n",
       "┌────────┬────────┐\n",
       "│ node   ┆ count  │\n",
       "│ ---    ┆ ---    │\n",
       "│ u32    ┆ u32    │\n",
       "╞════════╪════════╡\n",
       "│ 166419 ┆ 97420  │\n",
       "│ 2650   ┆ 100871 │\n",
       "│ 166129 ┆ 107526 │\n",
       "│ 71520  ┆ 117759 │\n",
       "│ 214198 ┆ 129851 │\n",
       "│ 71546  ┆ 136767 │\n",
       "│ 71511  ┆ 146887 │\n",
       "│ 71514  ┆ 185301 │\n",
       "│ 151453 ┆ 307435 │\n",
       "│ 170538 ┆ 463451 │\n",
       "└────────┴────────┘"
      ]
     },
     "execution_count": 33,
     "metadata": {},
     "output_type": "execute_result"
    }
   ],
   "source": [
    "nodes_count.tail(10)#.head(10)"
   ]
  },
  {
   "cell_type": "markdown",
   "id": "b958a3fa-656d-43ca-a824-b1d504fc943d",
   "metadata": {},
   "source": [
    "**Как видно из таблиц выше:**\n",
    "- Всего существует 4 823 локаций, медианое кол-во объявлений в локациях - 217, максимальное кол-во объявлений в одной локации - 4.3 млн\n",
    "- Общее кол-во категорий товара - 53, медианное кол-во объявлений в категориях - 167к, максимальное кол-во объявлений в одной категории - 3.69 млн\n",
    "- Общее кол-во групп товаров - 408к, медианное кол-во объявлений в группе - 3, максимальное кол-во объявлений в одной группе - 463к"
   ]
  },
  {
   "cell_type": "markdown",
   "id": "6396fd7b-a4a5-4666-adda-583d9d23229e",
   "metadata": {},
   "source": [
    "## Изучим и опишем данные из таблицы df_event"
   ]
  },
  {
   "cell_type": "code",
   "execution_count": 34,
   "id": "92231e70-45a0-46f7-be84-74e697457757",
   "metadata": {},
   "outputs": [
    {
     "data": {
      "text/html": [
       "<div><style>\n",
       ".dataframe > thead > tr,\n",
       ".dataframe > tbody > tr {\n",
       "  text-align: right;\n",
       "  white-space: pre-wrap;\n",
       "}\n",
       "</style>\n",
       "<small>shape: (9, 3)</small><table border=\"1\" class=\"dataframe\"><thead><tr><th>statistic</th><th>event</th><th>is_contact</th></tr><tr><td>str</td><td>f64</td><td>f64</td></tr></thead><tbody><tr><td>&quot;count&quot;</td><td>19.0</td><td>19.0</td></tr><tr><td>&quot;null_count&quot;</td><td>0.0</td><td>0.0</td></tr><tr><td>&quot;mean&quot;</td><td>9.631579</td><td>0.684211</td></tr><tr><td>&quot;std&quot;</td><td>6.048053</td><td>0.477567</td></tr><tr><td>&quot;min&quot;</td><td>0.0</td><td>0.0</td></tr><tr><td>&quot;25%&quot;</td><td>5.0</td><td>0.0</td></tr><tr><td>&quot;50%&quot;</td><td>10.0</td><td>1.0</td></tr><tr><td>&quot;75%&quot;</td><td>15.0</td><td>1.0</td></tr><tr><td>&quot;max&quot;</td><td>19.0</td><td>1.0</td></tr></tbody></table></div>"
      ],
      "text/plain": [
       "shape: (9, 3)\n",
       "┌────────────┬──────────┬────────────┐\n",
       "│ statistic  ┆ event    ┆ is_contact │\n",
       "│ ---        ┆ ---      ┆ ---        │\n",
       "│ str        ┆ f64      ┆ f64        │\n",
       "╞════════════╪══════════╪════════════╡\n",
       "│ count      ┆ 19.0     ┆ 19.0       │\n",
       "│ null_count ┆ 0.0      ┆ 0.0        │\n",
       "│ mean       ┆ 9.631579 ┆ 0.684211   │\n",
       "│ std        ┆ 6.048053 ┆ 0.477567   │\n",
       "│ min        ┆ 0.0      ┆ 0.0        │\n",
       "│ 25%        ┆ 5.0      ┆ 0.0        │\n",
       "│ 50%        ┆ 10.0     ┆ 1.0        │\n",
       "│ 75%        ┆ 15.0     ┆ 1.0        │\n",
       "│ max        ┆ 19.0     ┆ 1.0        │\n",
       "└────────────┴──────────┴────────────┘"
      ]
     },
     "execution_count": 34,
     "metadata": {},
     "output_type": "execute_result"
    }
   ],
   "source": [
    "df_event.sort(by='event').describe()"
   ]
  },
  {
   "cell_type": "code",
   "execution_count": 35,
   "id": "6ec19b54-82f4-42d8-b8c3-0c70dda5d6d3",
   "metadata": {},
   "outputs": [
    {
     "data": {
      "text/html": [
       "<div><style>\n",
       ".dataframe > thead > tr,\n",
       ".dataframe > tbody > tr {\n",
       "  text-align: right;\n",
       "  white-space: pre-wrap;\n",
       "}\n",
       "</style>\n",
       "<small>shape: (2, 2)</small><table border=\"1\" class=\"dataframe\"><thead><tr><th>is_contact</th><th>count</th></tr><tr><td>i64</td><td>u32</td></tr></thead><tbody><tr><td>0</td><td>6</td></tr><tr><td>1</td><td>13</td></tr></tbody></table></div>"
      ],
      "text/plain": [
       "shape: (2, 2)\n",
       "┌────────────┬───────┐\n",
       "│ is_contact ┆ count │\n",
       "│ ---        ┆ ---   │\n",
       "│ i64        ┆ u32   │\n",
       "╞════════════╪═══════╡\n",
       "│ 0          ┆ 6     │\n",
       "│ 1          ┆ 13    │\n",
       "└────────────┴───────┘"
      ]
     },
     "execution_count": 35,
     "metadata": {},
     "output_type": "execute_result"
    }
   ],
   "source": [
    "df_event['is_contact'].value_counts()"
   ]
  },
  {
   "cell_type": "markdown",
   "id": "8810d905-dc76-4dad-8865-3b15b0161ed4",
   "metadata": {},
   "source": [
    "**df_event** - 20 событий:\n",
    "- event - код события от 0 до 19,\n",
    "- is_contact - контактное ли событие - 6 не контактных и 13 контактных."
   ]
  },
  {
   "cell_type": "markdown",
   "id": "0e4d3eda-6469-46fe-916c-0084b815331a",
   "metadata": {},
   "source": [
    "# Подготовка моделей"
   ]
  },
  {
   "cell_type": "code",
   "execution_count": 36,
   "id": "2142656d-3dc5-4498-b90e-ec81701261b9",
   "metadata": {},
   "outputs": [],
   "source": [
    "EVAL_DAYS_TRESHOLD = 14"
   ]
  },
  {
   "cell_type": "code",
   "execution_count": 37,
   "id": "78d6129e-81f8-4156-a360-1ebf380dbca4",
   "metadata": {},
   "outputs": [
    {
     "data": {
      "text/plain": [
       "datetime.datetime(2025, 2, 9, 0, 0)"
      ]
     },
     "execution_count": 37,
     "metadata": {},
     "output_type": "execute_result"
    }
   ],
   "source": [
    "# Устанавливаем временной порог\n",
    "treshhold = df_clickstream['event_date'].max() - timedelta(days=EVAL_DAYS_TRESHOLD)\n",
    "treshhold"
   ]
  },
  {
   "cell_type": "code",
   "execution_count": 38,
   "id": "cabb9561-abf4-4e34-ab3b-9d7391188b92",
   "metadata": {},
   "outputs": [
    {
     "data": {
      "text/plain": [
       "((45631770, 7), (23174382, 3))"
      ]
     },
     "execution_count": 38,
     "metadata": {},
     "output_type": "execute_result"
    }
   ],
   "source": [
    "# Поведение пользователя до этого порога - трейн. после - валидационная\n",
    "df_train = df_clickstream.filter(df_clickstream['event_date']<= treshhold)\n",
    "df_eval = df_clickstream.filter(df_clickstream['event_date']> treshhold)[['cookie', 'node', 'event']]\n",
    "df_train.shape, df_eval.shape"
   ]
  },
  {
   "cell_type": "markdown",
   "id": "bef8ee6e-67ed-4f52-8e14-816cce6fecb7",
   "metadata": {},
   "source": [
    "Трейн - активность каждого пользователя ранее 2х недель назад. Эвал - активность каждого пользователя в последние 2 недели (взаимодействие с группами)."
   ]
  },
  {
   "cell_type": "code",
   "execution_count": 39,
   "id": "8484fcfb-47c7-4b3d-885b-2a691ed1e49f",
   "metadata": {},
   "outputs": [
    {
     "data": {
      "text/html": [
       "<div><style>\n",
       ".dataframe > thead > tr,\n",
       ".dataframe > tbody > tr {\n",
       "  text-align: right;\n",
       "  white-space: pre-wrap;\n",
       "}\n",
       "</style>\n",
       "<small>shape: (9_731_434, 3)</small><table border=\"1\" class=\"dataframe\"><thead><tr><th>cookie</th><th>node</th><th>event</th></tr><tr><td>i64</td><td>u32</td><td>i64</td></tr></thead><tbody><tr><td>1</td><td>196744</td><td>17</td></tr><tr><td>1</td><td>48631</td><td>17</td></tr><tr><td>1</td><td>267694</td><td>17</td></tr><tr><td>1</td><td>196909</td><td>17</td></tr><tr><td>1</td><td>402072</td><td>17</td></tr><tr><td>&hellip;</td><td>&hellip;</td><td>&hellip;</td></tr><tr><td>149993</td><td>195297</td><td>17</td></tr><tr><td>149993</td><td>195034</td><td>17</td></tr><tr><td>149995</td><td>115733</td><td>17</td></tr><tr><td>149999</td><td>136796</td><td>17</td></tr><tr><td>149999</td><td>109807</td><td>17</td></tr></tbody></table></div>"
      ],
      "text/plain": [
       "shape: (9_731_434, 3)\n",
       "┌────────┬────────┬───────┐\n",
       "│ cookie ┆ node   ┆ event │\n",
       "│ ---    ┆ ---    ┆ ---   │\n",
       "│ i64    ┆ u32    ┆ i64   │\n",
       "╞════════╪════════╪═══════╡\n",
       "│ 1      ┆ 196744 ┆ 17    │\n",
       "│ 1      ┆ 48631  ┆ 17    │\n",
       "│ 1      ┆ 267694 ┆ 17    │\n",
       "│ 1      ┆ 196909 ┆ 17    │\n",
       "│ 1      ┆ 402072 ┆ 17    │\n",
       "│ …      ┆ …      ┆ …     │\n",
       "│ 149993 ┆ 195297 ┆ 17    │\n",
       "│ 149993 ┆ 195034 ┆ 17    │\n",
       "│ 149995 ┆ 115733 ┆ 17    │\n",
       "│ 149999 ┆ 136796 ┆ 17    │\n",
       "│ 149999 ┆ 109807 ┆ 17    │\n",
       "└────────┴────────┴───────┘"
      ]
     },
     "execution_count": 39,
     "metadata": {},
     "output_type": "execute_result"
    }
   ],
   "source": [
    "# Оставляем в df_eval данные по активности пользователей,\n",
    "# Которые не имеют соответствий в df_train по указанным ключам\n",
    "# Используя 'cookie' и 'node' (пользователя и группу товара) в качестве ключей\n",
    "# anti - чтобы выбрать только те строки из df_eval, которых нет в df_train по cookie и node\n",
    "df_eval = df_eval.join(df_train, on=['cookie', 'node'], how='anti')\n",
    "df_eval"
   ]
  },
  {
   "cell_type": "code",
   "execution_count": 40,
   "id": "d2995b20-2896-4fb5-8f71-3e7a01ca3d8b",
   "metadata": {},
   "outputs": [],
   "source": [
    "# Оставляем в df_eval только те строки,\n",
    "# Где значение в столбце 'event' (событие клика) присутствует в уникальных событиях из df_event,\n",
    "# Которые соответствуют условию is_contact == 1\n",
    "df_eval = df_eval.filter(\n",
    "    pl.col('event').is_in(\n",
    "        df_event.filter(pl.col('is_contact')==1)['event'].unique()\n",
    "    )\n",
    ")"
   ]
  },
  {
   "cell_type": "code",
   "execution_count": 41,
   "id": "64c5e45e-0750-47a1-8401-2566d0f22887",
   "metadata": {
    "scrolled": true
   },
   "outputs": [
    {
     "data": {
      "text/html": [
       "<div><style>\n",
       ".dataframe > thead > tr,\n",
       ".dataframe > tbody > tr {\n",
       "  text-align: right;\n",
       "  white-space: pre-wrap;\n",
       "}\n",
       "</style>\n",
       "<small>shape: (13,)</small><table border=\"1\" class=\"dataframe\"><thead><tr><th>event</th></tr><tr><td>i64</td></tr></thead><tbody><tr><td>0</td></tr><tr><td>1</td></tr><tr><td>2</td></tr><tr><td>4</td></tr><tr><td>5</td></tr><tr><td>&hellip;</td></tr><tr><td>13</td></tr><tr><td>14</td></tr><tr><td>15</td></tr><tr><td>18</td></tr><tr><td>19</td></tr></tbody></table></div>"
      ],
      "text/plain": [
       "shape: (13,)\n",
       "Series: 'event' [i64]\n",
       "[\n",
       "\t0\n",
       "\t1\n",
       "\t2\n",
       "\t4\n",
       "\t5\n",
       "\t…\n",
       "\t13\n",
       "\t14\n",
       "\t15\n",
       "\t18\n",
       "\t19\n",
       "]"
      ]
     },
     "execution_count": 41,
     "metadata": {},
     "output_type": "execute_result"
    }
   ],
   "source": [
    "df_event.filter(pl.col('is_contact')==1)['event'].unique()"
   ]
  },
  {
   "cell_type": "code",
   "execution_count": 42,
   "id": "45d11674-79d2-4703-95b9-31f9ba88abc9",
   "metadata": {},
   "outputs": [
    {
     "data": {
      "text/html": [
       "<div><style>\n",
       ".dataframe > thead > tr,\n",
       ".dataframe > tbody > tr {\n",
       "  text-align: right;\n",
       "  white-space: pre-wrap;\n",
       "}\n",
       "</style>\n",
       "<small>shape: (303_796, 3)</small><table border=\"1\" class=\"dataframe\"><thead><tr><th>cookie</th><th>node</th><th>event</th></tr><tr><td>i64</td><td>u32</td><td>i64</td></tr></thead><tbody><tr><td>86</td><td>986</td><td>10</td></tr><tr><td>122</td><td>107096</td><td>10</td></tr><tr><td>133</td><td>332870</td><td>15</td></tr><tr><td>182</td><td>220074</td><td>15</td></tr><tr><td>184</td><td>51162</td><td>10</td></tr><tr><td>&hellip;</td><td>&hellip;</td><td>&hellip;</td></tr><tr><td>149705</td><td>230737</td><td>10</td></tr><tr><td>149866</td><td>251805</td><td>15</td></tr><tr><td>149866</td><td>251805</td><td>10</td></tr><tr><td>149895</td><td>137026</td><td>19</td></tr><tr><td>149975</td><td>234860</td><td>10</td></tr></tbody></table></div>"
      ],
      "text/plain": [
       "shape: (303_796, 3)\n",
       "┌────────┬────────┬───────┐\n",
       "│ cookie ┆ node   ┆ event │\n",
       "│ ---    ┆ ---    ┆ ---   │\n",
       "│ i64    ┆ u32    ┆ i64   │\n",
       "╞════════╪════════╪═══════╡\n",
       "│ 86     ┆ 986    ┆ 10    │\n",
       "│ 122    ┆ 107096 ┆ 10    │\n",
       "│ 133    ┆ 332870 ┆ 15    │\n",
       "│ 182    ┆ 220074 ┆ 15    │\n",
       "│ 184    ┆ 51162  ┆ 10    │\n",
       "│ …      ┆ …      ┆ …     │\n",
       "│ 149705 ┆ 230737 ┆ 10    │\n",
       "│ 149866 ┆ 251805 ┆ 15    │\n",
       "│ 149866 ┆ 251805 ┆ 10    │\n",
       "│ 149895 ┆ 137026 ┆ 19    │\n",
       "│ 149975 ┆ 234860 ┆ 10    │\n",
       "└────────┴────────┴───────┘"
      ]
     },
     "execution_count": 42,
     "metadata": {},
     "output_type": "execute_result"
    }
   ],
   "source": [
    "df_eval"
   ]
  },
  {
   "cell_type": "code",
   "execution_count": 43,
   "id": "03053625-f774-4a3f-b093-0328aeb18e87",
   "metadata": {},
   "outputs": [],
   "source": [
    "# В df_eval оставляем только те строки,\n",
    "# Где значение в столбце 'cookie' и 'node' присутствует в уникальных значениях из df_train\n",
    "# То есть осталвяем только пользователей и их группы, которые есть и в трейне, и в тесте.\n",
    "# То есть оставляем только записи о клиентах, если 14 или более дней назад такой интерес был \n",
    "\n",
    "df_eval = df_eval.filter(\n",
    "    pl.col('cookie').is_in(df_train['cookie'].unique())  \n",
    "    # в df_eval оставляем строки, где 'cookie' (пользователи) есть в уникальных значениях 'cookie' из df_train\n",
    ").filter(\n",
    "    pl.col('node').is_in(df_train['node'].unique())  \n",
    "    # в df_eval оставляем строки, где 'node' (интерес) есть в уникальных значениях 'node' из df_train\n",
    ")"
   ]
  },
  {
   "cell_type": "code",
   "execution_count": 44,
   "id": "1e938184-194e-469d-be17-043b0c0ad5ed",
   "metadata": {},
   "outputs": [],
   "source": [
    "# Оставляем уникальные комбинации пользователей и их групп\n",
    "df_eval = df_eval.unique(['cookie', 'node'])"
   ]
  },
  {
   "cell_type": "markdown",
   "id": "8227bfc0-5176-41b1-970f-786bc9ba2608",
   "metadata": {},
   "source": [
    "# Обучение моделей"
   ]
  },
  {
   "cell_type": "markdown",
   "id": "d69bb71a-5b86-4bcb-9157-7bdd802cbfe9",
   "metadata": {},
   "source": [
    "## ALS (baseline)"
   ]
  },
  {
   "cell_type": "code",
   "execution_count": 45,
   "id": "118b73e6-c306-4ab8-8ae5-3f133a95cda5",
   "metadata": {},
   "outputs": [],
   "source": [
    "def get_als_pred(users, nodes, user_to_pred):\n",
    "    # Получаем уникальные идентификаторы пользователей и узлов (объявлений)\n",
    "    user_ids = users.unique().to_list()\n",
    "    item_ids = nodes.unique().to_list()\n",
    "        \n",
    "    # Создаем словари для сопоставления идентификаторов пользователей и узлов с их индексами\n",
    "    user_id_to_index = {user_id: idx for idx, user_id in enumerate(user_ids)}\n",
    "    item_id_to_index = {item_id: idx for idx, item_id in enumerate(item_ids)}\n",
    "    index_to_item_id = {v: k for k, v in item_id_to_index.items()}\n",
    "    \n",
    "    # Заменяем идентификаторы пользователей и узлов на их индексы\n",
    "    rows = users.replace_strict(user_id_to_index).to_list()\n",
    "    cols = nodes.replace_strict(item_id_to_index).to_list()\n",
    "    \n",
    "    # Создаем значение для разреженной матрицы (в данном случае все значения равны 1)\n",
    "    values = [1] * len(users)\n",
    "    \n",
    "    # Создаем разреженную матрицу, представляющую взаимодействия пользователей и узлов\n",
    "    sparse_matrix = csr_matrix((values, (rows, cols)), shape=(len(user_ids), len(item_ids)))\n",
    "    \n",
    "    # Инициализируем модель ALS (Alternating Least Squares) с заданными параметрами\n",
    "    model = implicit.als.AlternatingLeastSquares(iterations=10, factors=60)\n",
    "    # Обучаем модель на разреженной матрице\n",
    "    model.fit(sparse_matrix)\n",
    "    \n",
    "    # Получаем индексы пользователей, для которых нужно сделать рекомендации\n",
    "    user4pred = np.array([user_id_to_index[i] for i in user_to_pred])\n",
    "    \n",
    "    # Генерируем рекомендации для указанных пользователей\n",
    "    recommendations, scores = model.recommend(user4pred, sparse_matrix[user4pred], N=40, filter_already_liked_items=True)\n",
    "    \n",
    "    # Создаем DataFrame для хранения рекомендаций, идентификаторов узлов и оценок\n",
    "    df_pred = pl.DataFrame(\n",
    "        {\n",
    "            'node': [\n",
    "                [index_to_item_id[i] for i in i] for i in recommendations.tolist()  \n",
    "                # Преобразуем индексы обратно в идентификаторы узлов\n",
    "            ], \n",
    "            'cookie': list(user_to_pred),  # Сохраняем идентификаторы пользователей\n",
    "            'scores': scores.tolist()  # Сохраняем оценки для каждой рекомендации\n",
    "        }\n",
    "    )\n",
    "    \n",
    "    # Разворачиваем DataFrame, чтобы каждая строка содержала одну рекомендацию\n",
    "    df_pred = df_pred.explode(['node', 'scores'])\n",
    "    \n",
    "    return df_pred  # Возвращаем DataFrame с рекомендациями\n"
   ]
  },
  {
   "cell_type": "code",
   "execution_count": 46,
   "id": "7ec48ba7-af95-49a4-a8e3-f9d24e9a5b2d",
   "metadata": {
    "scrolled": true
   },
   "outputs": [
    {
     "name": "stderr",
     "output_type": "stream",
     "text": [
      "C:\\Users\\kantoshina\\anaconda3\\Lib\\site-packages\\implicit\\cpu\\als.py:95: RuntimeWarning: Intel MKL BLAS is configured to use 8 threads. It is highly recommended to disable its internal threadpool by setting the environment variable 'MKL_NUM_THREADS=1' or by callng 'threadpoolctl.threadpool_limits(1, \"blas\")'. Having MKL use a threadpool can lead to severe performance issues\n",
      "  check_blas_config()\n"
     ]
    },
    {
     "data": {
      "application/vnd.jupyter.widget-view+json": {
       "model_id": "5c5d6604f69647c7927cb5c71d962d2e",
       "version_major": 2,
       "version_minor": 0
      },
      "text/plain": [
       "  0%|          | 0/10 [00:00<?, ?it/s]"
      ]
     },
     "metadata": {},
     "output_type": "display_data"
    },
    {
     "data": {
      "text/html": [
       "<div><style>\n",
       ".dataframe > thead > tr,\n",
       ".dataframe > tbody > tr {\n",
       "  text-align: right;\n",
       "  white-space: pre-wrap;\n",
       "}\n",
       "</style>\n",
       "<small>shape: (2_203_240, 3)</small><table border=\"1\" class=\"dataframe\"><thead><tr><th>node</th><th>cookie</th><th>scores</th></tr><tr><td>i64</td><td>i64</td><td>f64</td></tr></thead><tbody><tr><td>115834</td><td>0</td><td>0.91071</td></tr><tr><td>116118</td><td>0</td><td>0.859938</td></tr><tr><td>116123</td><td>0</td><td>0.785304</td></tr><tr><td>214234</td><td>0</td><td>0.737184</td></tr><tr><td>214235</td><td>0</td><td>0.719916</td></tr><tr><td>&hellip;</td><td>&hellip;</td><td>&hellip;</td></tr><tr><td>152034</td><td>149998</td><td>0.377191</td></tr><tr><td>152043</td><td>149998</td><td>0.373568</td></tr><tr><td>152122</td><td>149998</td><td>0.373537</td></tr><tr><td>152114</td><td>149998</td><td>0.372967</td></tr><tr><td>152108</td><td>149998</td><td>0.370691</td></tr></tbody></table></div>"
      ],
      "text/plain": [
       "shape: (2_203_240, 3)\n",
       "┌────────┬────────┬──────────┐\n",
       "│ node   ┆ cookie ┆ scores   │\n",
       "│ ---    ┆ ---    ┆ ---      │\n",
       "│ i64    ┆ i64    ┆ f64      │\n",
       "╞════════╪════════╪══════════╡\n",
       "│ 115834 ┆ 0      ┆ 0.91071  │\n",
       "│ 116118 ┆ 0      ┆ 0.859938 │\n",
       "│ 116123 ┆ 0      ┆ 0.785304 │\n",
       "│ 214234 ┆ 0      ┆ 0.737184 │\n",
       "│ 214235 ┆ 0      ┆ 0.719916 │\n",
       "│ …      ┆ …      ┆ …        │\n",
       "│ 152034 ┆ 149998 ┆ 0.377191 │\n",
       "│ 152043 ┆ 149998 ┆ 0.373568 │\n",
       "│ 152122 ┆ 149998 ┆ 0.373537 │\n",
       "│ 152114 ┆ 149998 ┆ 0.372967 │\n",
       "│ 152108 ┆ 149998 ┆ 0.370691 │\n",
       "└────────┴────────┴──────────┘"
      ]
     },
     "execution_count": 46,
     "metadata": {},
     "output_type": "execute_result"
    }
   ],
   "source": [
    "from scipy.sparse import csr_matrix\n",
    "import numpy as np\n",
    "import implicit\n",
    "\n",
    "\n",
    "users = df_train[\"cookie\"]\n",
    "nodes = df_train[\"node\"]\n",
    "eval_users = df_eval['cookie'].unique().to_list()\n",
    "\n",
    "df_pred = get_als_pred(users, nodes, eval_users)\n",
    "df_pred"
   ]
  },
  {
   "cell_type": "markdown",
   "id": "932fce11-7293-4146-9748-59aa83b306db",
   "metadata": {},
   "source": [
    "## popular (baseline)"
   ]
  },
  {
   "cell_type": "code",
   "execution_count": 47,
   "id": "63e63c59-d03c-448e-927b-52e0b369fed0",
   "metadata": {},
   "outputs": [
    {
     "data": {
      "text/html": [
       "<div><style>\n",
       ".dataframe > thead > tr,\n",
       ".dataframe > tbody > tr {\n",
       "  text-align: right;\n",
       "  white-space: pre-wrap;\n",
       "}\n",
       "</style>\n",
       "<small>shape: (2_203_240, 2)</small><table border=\"1\" class=\"dataframe\"><thead><tr><th>node</th><th>cookie</th></tr><tr><td>i64</td><td>i64</td></tr></thead><tbody><tr><td>151614</td><td>0</td></tr><tr><td>24</td><td>0</td></tr><tr><td>159206</td><td>0</td></tr><tr><td>130596</td><td>0</td></tr><tr><td>71524</td><td>0</td></tr><tr><td>&hellip;</td><td>&hellip;</td></tr><tr><td>71511</td><td>149998</td></tr><tr><td>71546</td><td>149998</td></tr><tr><td>71514</td><td>149998</td></tr><tr><td>170538</td><td>149998</td></tr><tr><td>151453</td><td>149998</td></tr></tbody></table></div>"
      ],
      "text/plain": [
       "shape: (2_203_240, 2)\n",
       "┌────────┬────────┐\n",
       "│ node   ┆ cookie │\n",
       "│ ---    ┆ ---    │\n",
       "│ i64    ┆ i64    │\n",
       "╞════════╪════════╡\n",
       "│ 151614 ┆ 0      │\n",
       "│ 24     ┆ 0      │\n",
       "│ 159206 ┆ 0      │\n",
       "│ 130596 ┆ 0      │\n",
       "│ 71524  ┆ 0      │\n",
       "│ …      ┆ …      │\n",
       "│ 71511  ┆ 149998 │\n",
       "│ 71546  ┆ 149998 │\n",
       "│ 71514  ┆ 149998 │\n",
       "│ 170538 ┆ 149998 │\n",
       "│ 151453 ┆ 149998 │\n",
       "└────────┴────────┘"
      ]
     },
     "execution_count": 47,
     "metadata": {},
     "output_type": "execute_result"
    }
   ],
   "source": [
    "def get_popular(df):\n",
    "    # Группируем данные по 'node', считаем количество 'cookie' для каждого узла,\n",
    "    # сортируем по количеству 'cookie' и берем 40 самых популярных узлов\n",
    "    popular_node = df.group_by('node').agg(pl.col('cookie').count()).sort('cookie').tail(40)['node'].to_list()\n",
    "    \n",
    "    # Создаем DataFrame, где 'node' - это список популярных узлов, \n",
    "    # а 'cookie' - это список пользователей (eval_users)\n",
    "    df_pred_pop = pl.DataFrame({'node': [popular_node for i in range(len(eval_users))], 'cookie': eval_users})\n",
    "    \n",
    "    # Разворачиваем столбец 'node', чтобы каждая строка соответствовала одному узлу\n",
    "    df_pred_pop = df_pred_pop.explode('node')\n",
    "    \n",
    "    # Возвращаем полученный DataFrame\n",
    "    return df_pred_pop\n",
    "\n",
    "# Вызываем функцию get_popular с DataFrame df_train и сохраняем результат в train_pop\n",
    "train_pop = get_popular(df_train)\n",
    "train_pop"
   ]
  },
  {
   "cell_type": "markdown",
   "id": "d8463683-a0ab-42ff-9534-43dfbc613cf0",
   "metadata": {},
   "source": [
    "# Посчитаем метрики"
   ]
  },
  {
   "cell_type": "code",
   "execution_count": 48,
   "id": "f67325eb-6ce3-41f2-b61b-4dfdd9bcab26",
   "metadata": {},
   "outputs": [],
   "source": [
    "def recall_at(df_true, df_pred, k=40):\n",
    "    return  df_true[['node', 'cookie']].join(\n",
    "        df_pred.group_by('cookie').head(k).with_columns(value=1)[['node', 'cookie', 'value']], \n",
    "        how='left',\n",
    "        on = ['cookie', 'node']\n",
    "    ).select(\n",
    "        [pl.col('value').fill_null(0), 'cookie']\n",
    "    ).group_by(\n",
    "        'cookie'\n",
    "    ).agg(\n",
    "        [\n",
    "            pl.col('value').sum()/pl.col(\n",
    "                'value'\n",
    "            ).count()\n",
    "        ]\n",
    "    )['value'].mean()"
   ]
  },
  {
   "cell_type": "code",
   "execution_count": 49,
   "id": "3fdab6aa-249c-4621-ad7e-c97467837b65",
   "metadata": {},
   "outputs": [
    {
     "data": {
      "text/plain": [
       "0.15068172242702435"
      ]
     },
     "execution_count": 49,
     "metadata": {},
     "output_type": "execute_result"
    }
   ],
   "source": [
    "recall_at(df_eval, df_pred, k=40)"
   ]
  },
  {
   "cell_type": "code",
   "execution_count": 50,
   "id": "bc5259d1-8644-4736-881e-b68c7758c1ab",
   "metadata": {},
   "outputs": [
    {
     "data": {
      "text/plain": [
       "0.058067308552970216"
      ]
     },
     "execution_count": 50,
     "metadata": {},
     "output_type": "execute_result"
    }
   ],
   "source": [
    "recall_at(df_eval, train_pop, k=40)"
   ]
  },
  {
   "cell_type": "code",
   "execution_count": 51,
   "id": "12b09825-e361-475e-bab7-836c03497267",
   "metadata": {},
   "outputs": [],
   "source": [
    "# Для проверки перед сабмитом На этапе eval в baseline ноутбучке можно использовать функцию\n",
    "\n",
    "def check_recall_at(df_solution: pl.DataFrame, df_pred: pl.DataFrame, k=40):\n",
    "    assert df_pred.group_by(['cookie']).agg(pl.col('node').count())['node'].max() <41 , 'send more then 40 nodes per cookie'\n",
    "    assert 'node' in df_pred.columns, 'node columns does not exist'\n",
    "    assert 'cookie' in df_pred.columns, 'cookie columns does not exist'\n",
    "    assert df_pred.with_columns(v = 1).group_by(['cookie','node']).agg(pl.col('v').count())['v'].max() == 1 , 'more then 1 cookie-node pair'\n",
    "    assert df_pred['cookie'].dtype == pl.Int64, 'cookie must be int64'\n",
    "    assert df_pred['node'].dtype == pl.Int64, 'node must be int64'\n",
    "    \n",
    "    return  df_solution[['node', 'cookie']].join(\n",
    "        df_pred.group_by('cookie').head(k).with_columns(value=1)[['node', 'cookie', 'value']], \n",
    "        how='left',\n",
    "        on = ['cookie', 'node']\n",
    "    ).select(\n",
    "        [pl.col('value').fill_null(0), 'cookie']\n",
    "    ).group_by(\n",
    "        'cookie'\n",
    "    ).agg(\n",
    "        [\n",
    "            pl.col('value').sum()/pl.col(\n",
    "                'value'\n",
    "            ).count()\n",
    "        ]\n",
    "    )['value'].mean()\n",
    "\n",
    "def main(solution_path: str, prediction_path: str, stage: int):\n",
    "    return check_recall_at(pl.read_csv(solution_path).filter(stage=stage), pl.read_csv(prediction_path))"
   ]
  },
  {
   "cell_type": "markdown",
   "id": "792f9003-bdb3-4d79-a3fc-f30a54766070",
   "metadata": {},
   "source": [
    "# SUMBIT"
   ]
  },
  {
   "cell_type": "code",
   "execution_count": 52,
   "id": "f04ffa5b-d541-4390-ac57-7b567cc99cc9",
   "metadata": {},
   "outputs": [
    {
     "data": {
      "application/vnd.jupyter.widget-view+json": {
       "model_id": "8518cd3f301444d2adca557fa209fb39",
       "version_major": 2,
       "version_minor": 0
      },
      "text/plain": [
       "  0%|          | 0/10 [00:00<?, ?it/s]"
      ]
     },
     "metadata": {},
     "output_type": "display_data"
    }
   ],
   "source": [
    "users = df_clickstream[\"cookie\"]\n",
    "nodes = df_clickstream[\"node\"]\n",
    "test_users = df_test_users['cookie'].unique().to_list()\n",
    "\n",
    "df_pred = get_als_pred(users, nodes, test_users )\n"
   ]
  },
  {
   "cell_type": "code",
   "execution_count": 53,
   "id": "f1ded7e4-574a-4df7-b1ab-1942e510d141",
   "metadata": {},
   "outputs": [],
   "source": [
    "df_pred.write_csv('prediction.csv')"
   ]
  },
  {
   "cell_type": "code",
   "execution_count": 54,
   "id": "bc872795-563f-4928-baad-3084a1fb63ed",
   "metadata": {
    "scrolled": true
   },
   "outputs": [
    {
     "data": {
      "text/html": [
       "<div><style>\n",
       ".dataframe > thead > tr,\n",
       ".dataframe > tbody > tr {\n",
       "  text-align: right;\n",
       "  white-space: pre-wrap;\n",
       "}\n",
       "</style>\n",
       "<small>shape: (3_692_760, 3)</small><table border=\"1\" class=\"dataframe\"><thead><tr><th>node</th><th>cookie</th><th>scores</th></tr><tr><td>i64</td><td>i64</td><td>f64</td></tr></thead><tbody><tr><td>243177</td><td>1</td><td>1.161905</td></tr><tr><td>115820</td><td>1</td><td>1.118542</td></tr><tr><td>214339</td><td>1</td><td>1.108312</td></tr><tr><td>152705</td><td>1</td><td>1.094247</td></tr><tr><td>243178</td><td>1</td><td>1.052569</td></tr><tr><td>&hellip;</td><td>&hellip;</td><td>&hellip;</td></tr><tr><td>116123</td><td>149999</td><td>0.500894</td></tr><tr><td>130636</td><td>149999</td><td>0.496801</td></tr><tr><td>120504</td><td>149999</td><td>0.495711</td></tr><tr><td>71515</td><td>149999</td><td>0.491771</td></tr><tr><td>122416</td><td>149999</td><td>0.489742</td></tr></tbody></table></div>"
      ],
      "text/plain": [
       "shape: (3_692_760, 3)\n",
       "┌────────┬────────┬──────────┐\n",
       "│ node   ┆ cookie ┆ scores   │\n",
       "│ ---    ┆ ---    ┆ ---      │\n",
       "│ i64    ┆ i64    ┆ f64      │\n",
       "╞════════╪════════╪══════════╡\n",
       "│ 243177 ┆ 1      ┆ 1.161905 │\n",
       "│ 115820 ┆ 1      ┆ 1.118542 │\n",
       "│ 214339 ┆ 1      ┆ 1.108312 │\n",
       "│ 152705 ┆ 1      ┆ 1.094247 │\n",
       "│ 243178 ┆ 1      ┆ 1.052569 │\n",
       "│ …      ┆ …      ┆ …        │\n",
       "│ 116123 ┆ 149999 ┆ 0.500894 │\n",
       "│ 130636 ┆ 149999 ┆ 0.496801 │\n",
       "│ 120504 ┆ 149999 ┆ 0.495711 │\n",
       "│ 71515  ┆ 149999 ┆ 0.491771 │\n",
       "│ 122416 ┆ 149999 ┆ 0.489742 │\n",
       "└────────┴────────┴──────────┘"
      ]
     },
     "execution_count": 54,
     "metadata": {},
     "output_type": "execute_result"
    }
   ],
   "source": [
    "df_pred"
   ]
  }
 ],
 "metadata": {
  "kernelspec": {
   "display_name": "Python [conda env:base] *",
   "language": "python",
   "name": "conda-base-py"
  },
  "language_info": {
   "codemirror_mode": {
    "name": "ipython",
    "version": 3
   },
   "file_extension": ".py",
   "mimetype": "text/x-python",
   "name": "python",
   "nbconvert_exporter": "python",
   "pygments_lexer": "ipython3",
   "version": "3.12.4"
  }
 },
 "nbformat": 4,
 "nbformat_minor": 5
}
