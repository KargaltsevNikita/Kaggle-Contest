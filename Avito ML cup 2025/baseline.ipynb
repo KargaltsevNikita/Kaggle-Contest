{
 "cells": [
  {
   "cell_type": "markdown",
   "id": "21e14b3b-d9be-4f1e-b277-9ab7f65c5a71",
   "metadata": {},
   "source": [
    "# Load Data"
   ]
  },
  {
   "cell_type": "code",
   "execution_count": 1,
   "id": "f9f92c11-baa9-4d93-b895-d191cbef3e31",
   "metadata": {},
   "outputs": [],
   "source": [
    "%load_ext autoreload\n",
    "%autoreload 2"
   ]
  },
  {
   "cell_type": "code",
   "execution_count": 2,
   "id": "0fd7da79-5e1d-4330-8379-3b8beb16acd0",
   "metadata": {},
   "outputs": [],
   "source": [
    "!pip install polars==1.25.2 >> _\n"
   ]
  },
  {
   "cell_type": "code",
   "execution_count": 3,
   "id": "fd0d9f09-3572-4ed8-9db6-0f1d92625c8d",
   "metadata": {
    "scrolled": true
   },
   "outputs": [],
   "source": [
    "!pip install implicit >> _"
   ]
  },
  {
   "cell_type": "code",
   "execution_count": 4,
   "id": "07dda6ae-5973-44ea-a2b8-1b954c1c7619",
   "metadata": {},
   "outputs": [
    {
     "name": "stderr",
     "output_type": "stream",
     "text": [
      "Подпапка или файл data уже существует.\n"
     ]
    }
   ],
   "source": [
    "!mkdir data"
   ]
  },
  {
   "cell_type": "code",
   "execution_count": 5,
   "id": "d11cf29c-80bb-48dd-9a5a-7a7fee340a97",
   "metadata": {},
   "outputs": [],
   "source": [
    "# # takes 5 minutes\n",
    "# !wget https://storage.yandexcloud.net/ds-ods/files/data/docs/competitions/Avitotechcomp2025/data_competition_1/clickstream.pq -O data/clickstream.pq >> _\n",
    "# !wget https://storage.yandexcloud.net/ds-ods/files/data/docs/competitions/Avitotechcomp2025/data_competition_1/test_users.pq -O data/test_users.pq >> _\n",
    "# !wget https://storage.yandexcloud.net/ds-ods/files/data/docs/competitions/Avitotechcomp2025/data_competition_1/cat_features.pq -O data/cat_features.pq >> _\n",
    "# !wget https://storage.yandexcloud.net/ds-ods/files/data/docs/competitions/Avitotechcomp2025/data_competition_1/text_features.pq -O data/text_features.pq >> _\n",
    "# !wget https://storage.yandexcloud.net/ds-ods/files/data/docs/competitions/Avitotechcomp2025/data_competition_1/events.pq -O data/events.pq >> _\n"
   ]
  },
  {
   "cell_type": "code",
   "execution_count": 6,
   "id": "7a1164ec-f32d-4d8c-9349-e07193347639",
   "metadata": {},
   "outputs": [],
   "source": [
    "from datetime import timedelta\n",
    "import polars as pl\n",
    "import implicit"
   ]
  },
  {
   "cell_type": "code",
   "execution_count": 26,
   "id": "11dc4c75-27b3-4cbb-a68f-98d3e7177ddd",
   "metadata": {},
   "outputs": [],
   "source": [
    "DATA_DIR = 'data/'\n",
    "\n",
    "df_test_users = pl.read_parquet(f'{DATA_DIR}/test_users.pq')\n",
    "df_clickstream = pl.read_parquet(f'{DATA_DIR}/clickstream.pq')\n",
    "\n",
    "df_cat_features = pl.read_parquet(f'{DATA_DIR}/cat_features.pq')\n",
    "df_text_features = pl.read_parquet(f'{DATA_DIR}/text_features.pq')\n",
    "df_event = pl.read_parquet(f'{DATA_DIR}/events.pq')"
   ]
  },
  {
   "cell_type": "markdown",
   "id": "f821debd-2a22-41c3-9156-f85b3684bec6",
   "metadata": {},
   "source": [
    "# PREPARE TRAIN EVAL"
   ]
  },
  {
   "cell_type": "code",
   "execution_count": 27,
   "id": "2142656d-3dc5-4498-b90e-ec81701261b9",
   "metadata": {},
   "outputs": [],
   "source": [
    "EVAL_DAYS_TRESHOLD = 14"
   ]
  },
  {
   "cell_type": "code",
   "execution_count": 28,
   "id": "78d6129e-81f8-4156-a360-1ebf380dbca4",
   "metadata": {},
   "outputs": [
    {
     "data": {
      "text/plain": [
       "datetime.datetime(2025, 2, 9, 0, 0)"
      ]
     },
     "execution_count": 28,
     "metadata": {},
     "output_type": "execute_result"
    }
   ],
   "source": [
    "# устанавливаем временной порог\n",
    "treshhold = df_clickstream['event_date'].max() - timedelta(days=EVAL_DAYS_TRESHOLD)\n",
    "treshhold"
   ]
  },
  {
   "cell_type": "code",
   "execution_count": 29,
   "id": "cabb9561-abf4-4e34-ab3b-9d7391188b92",
   "metadata": {},
   "outputs": [
    {
     "data": {
      "text/plain": [
       "((45631770, 7), (23174382, 3))"
      ]
     },
     "execution_count": 29,
     "metadata": {},
     "output_type": "execute_result"
    }
   ],
   "source": [
    "# поведение пользователя до этого порога - трейн. после - валидационная\n",
    "df_train = df_clickstream.filter(df_clickstream['event_date']<= treshhold)\n",
    "df_eval = df_clickstream.filter(df_clickstream['event_date']> treshhold)[['cookie', 'node', 'event']]\n",
    "df_train.shape, df_eval.shape"
   ]
  },
  {
   "cell_type": "markdown",
   "id": "1485a3a8-ba60-429c-b5f3-266057d9e8ac",
   "metadata": {},
   "source": [
    "Трейн - активность каждого пользователя ранее 2х недель назад. Эвал - активность каждого пользователя в последние 2 недели (взаимодействие с группами)."
   ]
  },
  {
   "cell_type": "code",
   "execution_count": 30,
   "id": "8484fcfb-47c7-4b3d-885b-2a691ed1e49f",
   "metadata": {},
   "outputs": [
    {
     "data": {
      "text/html": [
       "<div><style>\n",
       ".dataframe > thead > tr,\n",
       ".dataframe > tbody > tr {\n",
       "  text-align: right;\n",
       "  white-space: pre-wrap;\n",
       "}\n",
       "</style>\n",
       "<small>shape: (9_731_434, 3)</small><table border=\"1\" class=\"dataframe\"><thead><tr><th>cookie</th><th>node</th><th>event</th></tr><tr><td>i64</td><td>u32</td><td>i64</td></tr></thead><tbody><tr><td>1</td><td>196744</td><td>17</td></tr><tr><td>1</td><td>48631</td><td>17</td></tr><tr><td>1</td><td>267694</td><td>17</td></tr><tr><td>1</td><td>196909</td><td>17</td></tr><tr><td>1</td><td>402072</td><td>17</td></tr><tr><td>&hellip;</td><td>&hellip;</td><td>&hellip;</td></tr><tr><td>149993</td><td>195297</td><td>17</td></tr><tr><td>149993</td><td>195034</td><td>17</td></tr><tr><td>149995</td><td>115733</td><td>17</td></tr><tr><td>149999</td><td>136796</td><td>17</td></tr><tr><td>149999</td><td>109807</td><td>17</td></tr></tbody></table></div>"
      ],
      "text/plain": [
       "shape: (9_731_434, 3)\n",
       "┌────────┬────────┬───────┐\n",
       "│ cookie ┆ node   ┆ event │\n",
       "│ ---    ┆ ---    ┆ ---   │\n",
       "│ i64    ┆ u32    ┆ i64   │\n",
       "╞════════╪════════╪═══════╡\n",
       "│ 1      ┆ 196744 ┆ 17    │\n",
       "│ 1      ┆ 48631  ┆ 17    │\n",
       "│ 1      ┆ 267694 ┆ 17    │\n",
       "│ 1      ┆ 196909 ┆ 17    │\n",
       "│ 1      ┆ 402072 ┆ 17    │\n",
       "│ …      ┆ …      ┆ …     │\n",
       "│ 149993 ┆ 195297 ┆ 17    │\n",
       "│ 149993 ┆ 195034 ┆ 17    │\n",
       "│ 149995 ┆ 115733 ┆ 17    │\n",
       "│ 149999 ┆ 136796 ┆ 17    │\n",
       "│ 149999 ┆ 109807 ┆ 17    │\n",
       "└────────┴────────┴───────┘"
      ]
     },
     "execution_count": 30,
     "metadata": {},
     "output_type": "execute_result"
    }
   ],
   "source": [
    "# оставляем в df_eval данные по активности пользователей,\n",
    "# которые не имеют соответствий в df_train по указанным ключам\n",
    "# используя 'cookie' и 'node' (пользователя и группу товара) в качестве ключей\n",
    "# anti - чтобы выбрать только те строки из df_eval, которых нет в df_train по cookie и node\n",
    "df_eval = df_eval.join(df_train, on=['cookie', 'node'], how='anti')\n",
    "df_eval"
   ]
  },
  {
   "cell_type": "code",
   "execution_count": 12,
   "id": "d2995b20-2896-4fb5-8f71-3e7a01ca3d8b",
   "metadata": {},
   "outputs": [],
   "source": [
    "# оставляем в df_eval только те строки,\n",
    "# где значение в столбце 'event' (событие клика) присутствует в уникальных событиях из df_event,\n",
    "# которые соответствуют условию is_contact == 1\n",
    "df_eval = df_eval.filter(\n",
    "    pl.col('event').is_in(\n",
    "        df_event.filter(pl.col('is_contact')==1)['event'].unique()\n",
    "    )\n",
    ")"
   ]
  },
  {
   "cell_type": "code",
   "execution_count": 31,
   "id": "64c5e45e-0750-47a1-8401-2566d0f22887",
   "metadata": {
    "scrolled": true
   },
   "outputs": [
    {
     "data": {
      "text/html": [
       "<div><style>\n",
       ".dataframe > thead > tr,\n",
       ".dataframe > tbody > tr {\n",
       "  text-align: right;\n",
       "  white-space: pre-wrap;\n",
       "}\n",
       "</style>\n",
       "<small>shape: (13,)</small><table border=\"1\" class=\"dataframe\"><thead><tr><th>event</th></tr><tr><td>i64</td></tr></thead><tbody><tr><td>0</td></tr><tr><td>1</td></tr><tr><td>2</td></tr><tr><td>4</td></tr><tr><td>5</td></tr><tr><td>&hellip;</td></tr><tr><td>13</td></tr><tr><td>14</td></tr><tr><td>15</td></tr><tr><td>18</td></tr><tr><td>19</td></tr></tbody></table></div>"
      ],
      "text/plain": [
       "shape: (13,)\n",
       "Series: 'event' [i64]\n",
       "[\n",
       "\t0\n",
       "\t1\n",
       "\t2\n",
       "\t4\n",
       "\t5\n",
       "\t…\n",
       "\t13\n",
       "\t14\n",
       "\t15\n",
       "\t18\n",
       "\t19\n",
       "]"
      ]
     },
     "execution_count": 31,
     "metadata": {},
     "output_type": "execute_result"
    }
   ],
   "source": [
    "df_event.filter(pl.col('is_contact')==1)['event'].unique()"
   ]
  },
  {
   "cell_type": "code",
   "execution_count": 25,
   "id": "45d11674-79d2-4703-95b9-31f9ba88abc9",
   "metadata": {},
   "outputs": [
    {
     "data": {
      "text/html": [
       "<div><style>\n",
       ".dataframe > thead > tr,\n",
       ".dataframe > tbody > tr {\n",
       "  text-align: right;\n",
       "  white-space: pre-wrap;\n",
       "}\n",
       "</style>\n",
       "<small>shape: (156_112, 3)</small><table border=\"1\" class=\"dataframe\"><thead><tr><th>cookie</th><th>node</th><th>event</th></tr><tr><td>i64</td><td>u32</td><td>i64</td></tr></thead><tbody><tr><td>43996</td><td>334165</td><td>10</td></tr><tr><td>116178</td><td>198564</td><td>4</td></tr><tr><td>13684</td><td>214349</td><td>10</td></tr><tr><td>95493</td><td>214339</td><td>19</td></tr><tr><td>462</td><td>193486</td><td>10</td></tr><tr><td>&hellip;</td><td>&hellip;</td><td>&hellip;</td></tr><tr><td>142376</td><td>360255</td><td>10</td></tr><tr><td>88517</td><td>115822</td><td>10</td></tr><tr><td>21609</td><td>27839</td><td>13</td></tr><tr><td>131870</td><td>219557</td><td>15</td></tr><tr><td>59966</td><td>681</td><td>10</td></tr></tbody></table></div>"
      ],
      "text/plain": [
       "shape: (156_112, 3)\n",
       "┌────────┬────────┬───────┐\n",
       "│ cookie ┆ node   ┆ event │\n",
       "│ ---    ┆ ---    ┆ ---   │\n",
       "│ i64    ┆ u32    ┆ i64   │\n",
       "╞════════╪════════╪═══════╡\n",
       "│ 43996  ┆ 334165 ┆ 10    │\n",
       "│ 116178 ┆ 198564 ┆ 4     │\n",
       "│ 13684  ┆ 214349 ┆ 10    │\n",
       "│ 95493  ┆ 214339 ┆ 19    │\n",
       "│ 462    ┆ 193486 ┆ 10    │\n",
       "│ …      ┆ …      ┆ …     │\n",
       "│ 142376 ┆ 360255 ┆ 10    │\n",
       "│ 88517  ┆ 115822 ┆ 10    │\n",
       "│ 21609  ┆ 27839  ┆ 13    │\n",
       "│ 131870 ┆ 219557 ┆ 15    │\n",
       "│ 59966  ┆ 681    ┆ 10    │\n",
       "└────────┴────────┴───────┘"
      ]
     },
     "execution_count": 25,
     "metadata": {},
     "output_type": "execute_result"
    }
   ],
   "source": [
    "df_eval"
   ]
  },
  {
   "cell_type": "code",
   "execution_count": 13,
   "id": "03053625-f774-4a3f-b093-0328aeb18e87",
   "metadata": {},
   "outputs": [],
   "source": [
    "# в df_eval оставляем только те строки,\n",
    "# где значение в столбце 'cookie' и 'node' присутствует в уникальных значениях из df_train\n",
    "# то есть осталвяем только пользователей и их группы, которые есть и в трейне, и в тесте.\n",
    "# то есть оставляем только записи о клиентах, если 14 или более дней назад такой интерес был \n",
    "\n",
    "df_eval = df_eval.filter(\n",
    "    pl.col('cookie').is_in(df_train['cookie'].unique())  \n",
    "    # в df_eval оставляем строки, где 'cookie' (пользователи) есть в уникальных значениях 'cookie' из df_train\n",
    ").filter(\n",
    "    pl.col('node').is_in(df_train['node'].unique())  \n",
    "    # в df_eval оставляем строки, где 'node' (интерес) есть в уникальных значениях 'node' из df_train\n",
    ")"
   ]
  },
  {
   "cell_type": "code",
   "execution_count": 14,
   "id": "1e938184-194e-469d-be17-043b0c0ad5ed",
   "metadata": {},
   "outputs": [],
   "source": [
    "# оставляем уникальные комбинации пользователей и их групп\n",
    "df_eval = df_eval.unique(['cookie', 'node'])"
   ]
  },
  {
   "cell_type": "markdown",
   "id": "a7610069-bd37-4231-9285-8a8598339376",
   "metadata": {},
   "source": [
    "# TRAIN MODEL"
   ]
  },
  {
   "cell_type": "markdown",
   "id": "7db32b36-9ec3-47ed-bbc1-0b395c350cf7",
   "metadata": {},
   "source": [
    "## ALS"
   ]
  },
  {
   "cell_type": "code",
   "execution_count": 15,
   "id": "118b73e6-c306-4ab8-8ae5-3f133a95cda5",
   "metadata": {},
   "outputs": [],
   "source": [
    "def get_als_pred(users, nodes, user_to_pred):\n",
    "    # Получаем уникальные идентификаторы пользователей и узлов (объявлений)\n",
    "    user_ids = users.unique().to_list()\n",
    "    item_ids = nodes.unique().to_list()\n",
    "        \n",
    "    # Создаем словари для сопоставления идентификаторов пользователей и узлов с их индексами\n",
    "    user_id_to_index = {user_id: idx for idx, user_id in enumerate(user_ids)}\n",
    "    item_id_to_index = {item_id: idx for idx, item_id in enumerate(item_ids)}\n",
    "    index_to_item_id = {v: k for k, v in item_id_to_index.items()}\n",
    "    \n",
    "    # Заменяем идентификаторы пользователей и узлов на их индексы\n",
    "    rows = users.replace_strict(user_id_to_index).to_list()\n",
    "    cols = nodes.replace_strict(item_id_to_index).to_list()\n",
    "    \n",
    "    # Создаем значение для разреженной матрицы (в данном случае все значения равны 1)\n",
    "    values = [1] * len(users)\n",
    "    \n",
    "    # Создаем разреженную матрицу, представляющую взаимодействия пользователей и узлов\n",
    "    sparse_matrix = csr_matrix((values, (rows, cols)), shape=(len(user_ids), len(item_ids)))\n",
    "    \n",
    "    # Инициализируем модель ALS (Alternating Least Squares) с заданными параметрами\n",
    "    model = implicit.als.AlternatingLeastSquares(iterations=10, factors=60)\n",
    "    # Обучаем модель на разреженной матрице\n",
    "    model.fit(sparse_matrix)\n",
    "    \n",
    "    # Получаем индексы пользователей, для которых нужно сделать рекомендации\n",
    "    user4pred = np.array([user_id_to_index[i] for i in user_to_pred])\n",
    "    \n",
    "    # Генерируем рекомендации для указанных пользователей\n",
    "    recommendations, scores = model.recommend(user4pred, sparse_matrix[user4pred], N=40, filter_already_liked_items=True)\n",
    "    \n",
    "    # Создаем DataFrame для хранения рекомендаций, идентификаторов узлов и оценок\n",
    "    df_pred = pl.DataFrame(\n",
    "        {\n",
    "            'node': [\n",
    "                [index_to_item_id[i] for i in i] for i in recommendations.tolist()  # Преобразуем индексы обратно в идентификаторы узлов\n",
    "            ], \n",
    "            'cookie': list(user_to_pred),  # Сохраняем идентификаторы пользователей\n",
    "            'scores': scores.tolist()  # Сохраняем оценки для каждой рекомендации\n",
    "        }\n",
    "    )\n",
    "    \n",
    "    # Разворачиваем DataFrame, чтобы каждая строка содержала одну рекомендацию\n",
    "    df_pred = df_pred.explode(['node', 'scores'])\n",
    "    \n",
    "    return df_pred  # Возвращаем DataFrame с рекомендациями\n"
   ]
  },
  {
   "cell_type": "code",
   "execution_count": 16,
   "id": "7ec48ba7-af95-49a4-a8e3-f9d24e9a5b2d",
   "metadata": {
    "scrolled": true
   },
   "outputs": [
    {
     "name": "stderr",
     "output_type": "stream",
     "text": [
      "C:\\Users\\kantoshina\\anaconda3\\Lib\\site-packages\\implicit\\cpu\\als.py:95: RuntimeWarning: Intel MKL BLAS is configured to use 8 threads. It is highly recommended to disable its internal threadpool by setting the environment variable 'MKL_NUM_THREADS=1' or by callng 'threadpoolctl.threadpool_limits(1, \"blas\")'. Having MKL use a threadpool can lead to severe performance issues\n",
      "  check_blas_config()\n"
     ]
    },
    {
     "data": {
      "application/vnd.jupyter.widget-view+json": {
       "model_id": "90022afd6da14a53a4752b8482d2fe7b",
       "version_major": 2,
       "version_minor": 0
      },
      "text/plain": [
       "  0%|          | 0/10 [00:00<?, ?it/s]"
      ]
     },
     "metadata": {},
     "output_type": "display_data"
    }
   ],
   "source": [
    "from scipy.sparse import csr_matrix\n",
    "import numpy as np\n",
    "import implicit\n",
    "\n",
    "\n",
    "users = df_train[\"cookie\"]\n",
    "nodes = df_train[\"node\"]\n",
    "eval_users = df_eval['cookie'].unique().to_list()\n",
    "\n",
    "df_pred = get_als_pred(users, nodes,eval_users )"
   ]
  },
  {
   "cell_type": "markdown",
   "id": "9192c125-ed26-4f28-8433-1b4b6c00776b",
   "metadata": {},
   "source": [
    "## popular"
   ]
  },
  {
   "cell_type": "code",
   "execution_count": 17,
   "id": "63e63c59-d03c-448e-927b-52e0b369fed0",
   "metadata": {},
   "outputs": [],
   "source": [
    "def get_popular(df):\n",
    "    popukar_node = df.group_by('node').agg(pl.col('cookie').count()).sort('cookie').tail(40)['node'].to_list()\n",
    "    df_pred_pop = pl.DataFrame({'node': [popukar_node for i in range(len(eval_users))], 'cookie': eval_users})\n",
    "    df_pred_pop = df_pred_pop.explode('node')\n",
    "    return df_pred_pop\n",
    "\n",
    "train_pop = get_popular(df_train)"
   ]
  },
  {
   "cell_type": "markdown",
   "id": "20e5d1dd-9eb8-4e46-8c87-b70ab3e50edb",
   "metadata": {},
   "source": [
    "# CALC EVAL METRICS"
   ]
  },
  {
   "cell_type": "code",
   "execution_count": 18,
   "id": "f67325eb-6ce3-41f2-b61b-4dfdd9bcab26",
   "metadata": {},
   "outputs": [],
   "source": [
    "def recall_at(df_true, df_pred, k=40):\n",
    "    return  df_true[['node', 'cookie']].join(\n",
    "        df_pred.group_by('cookie').head(k).with_columns(value=1)[['node', 'cookie', 'value']], \n",
    "        how='left',\n",
    "        on = ['cookie', 'node']\n",
    "    ).select(\n",
    "        [pl.col('value').fill_null(0), 'cookie']\n",
    "    ).group_by(\n",
    "        'cookie'\n",
    "    ).agg(\n",
    "        [\n",
    "            pl.col('value').sum()/pl.col(\n",
    "                'value'\n",
    "            ).count()\n",
    "        ]\n",
    "    )['value'].mean()\n"
   ]
  },
  {
   "cell_type": "code",
   "execution_count": 19,
   "id": "3fdab6aa-249c-4621-ad7e-c97467837b65",
   "metadata": {},
   "outputs": [
    {
     "data": {
      "text/plain": [
       "0.15130550510137222"
      ]
     },
     "execution_count": 19,
     "metadata": {},
     "output_type": "execute_result"
    }
   ],
   "source": [
    "recall_at(df_eval, df_pred, k=40)"
   ]
  },
  {
   "cell_type": "code",
   "execution_count": 20,
   "id": "bc5259d1-8644-4736-881e-b68c7758c1ab",
   "metadata": {},
   "outputs": [
    {
     "data": {
      "text/plain": [
       "0.058067308552970216"
      ]
     },
     "execution_count": 20,
     "metadata": {},
     "output_type": "execute_result"
    }
   ],
   "source": [
    "recall_at(df_eval, train_pop, k=40)"
   ]
  },
  {
   "cell_type": "markdown",
   "id": "1c046830-fdf3-42a0-9776-657cce44c947",
   "metadata": {},
   "source": [
    "# SUMBIT"
   ]
  },
  {
   "cell_type": "code",
   "execution_count": 21,
   "id": "f04ffa5b-d541-4390-ac57-7b567cc99cc9",
   "metadata": {},
   "outputs": [
    {
     "data": {
      "application/vnd.jupyter.widget-view+json": {
       "model_id": "096a8202a2fe47eebabaad66121c6128",
       "version_major": 2,
       "version_minor": 0
      },
      "text/plain": [
       "  0%|          | 0/10 [00:00<?, ?it/s]"
      ]
     },
     "metadata": {},
     "output_type": "display_data"
    }
   ],
   "source": [
    "users = df_clickstream[\"cookie\"]\n",
    "nodes = df_clickstream[\"node\"]\n",
    "test_users = df_test_users['cookie'].unique().to_list()\n",
    "\n",
    "df_pred = get_als_pred(users, nodes, test_users )\n"
   ]
  },
  {
   "cell_type": "code",
   "execution_count": 22,
   "id": "f1ded7e4-574a-4df7-b1ab-1942e510d141",
   "metadata": {},
   "outputs": [],
   "source": [
    "df_pred.write_csv('prediction.csv')"
   ]
  },
  {
   "cell_type": "code",
   "execution_count": 23,
   "id": "bc872795-563f-4928-baad-3084a1fb63ed",
   "metadata": {
    "scrolled": true
   },
   "outputs": [
    {
     "data": {
      "text/html": [
       "<div><style>\n",
       ".dataframe > thead > tr,\n",
       ".dataframe > tbody > tr {\n",
       "  text-align: right;\n",
       "  white-space: pre-wrap;\n",
       "}\n",
       "</style>\n",
       "<small>shape: (3_692_760, 3)</small><table border=\"1\" class=\"dataframe\"><thead><tr><th>node</th><th>cookie</th><th>scores</th></tr><tr><td>i64</td><td>i64</td><td>f64</td></tr></thead><tbody><tr><td>1907</td><td>1</td><td>1.20856</td></tr><tr><td>30443</td><td>1</td><td>1.203187</td></tr><tr><td>214377</td><td>1</td><td>1.156842</td></tr><tr><td>214339</td><td>1</td><td>1.116149</td></tr><tr><td>152705</td><td>1</td><td>1.105107</td></tr><tr><td>&hellip;</td><td>&hellip;</td><td>&hellip;</td></tr><tr><td>117348</td><td>149999</td><td>0.501848</td></tr><tr><td>120273</td><td>149999</td><td>0.500865</td></tr><tr><td>117342</td><td>149999</td><td>0.500647</td></tr><tr><td>122327</td><td>149999</td><td>0.497055</td></tr><tr><td>120247</td><td>149999</td><td>0.48832</td></tr></tbody></table></div>"
      ],
      "text/plain": [
       "shape: (3_692_760, 3)\n",
       "┌────────┬────────┬──────────┐\n",
       "│ node   ┆ cookie ┆ scores   │\n",
       "│ ---    ┆ ---    ┆ ---      │\n",
       "│ i64    ┆ i64    ┆ f64      │\n",
       "╞════════╪════════╪══════════╡\n",
       "│ 1907   ┆ 1      ┆ 1.20856  │\n",
       "│ 30443  ┆ 1      ┆ 1.203187 │\n",
       "│ 214377 ┆ 1      ┆ 1.156842 │\n",
       "│ 214339 ┆ 1      ┆ 1.116149 │\n",
       "│ 152705 ┆ 1      ┆ 1.105107 │\n",
       "│ …      ┆ …      ┆ …        │\n",
       "│ 117348 ┆ 149999 ┆ 0.501848 │\n",
       "│ 120273 ┆ 149999 ┆ 0.500865 │\n",
       "│ 117342 ┆ 149999 ┆ 0.500647 │\n",
       "│ 122327 ┆ 149999 ┆ 0.497055 │\n",
       "│ 120247 ┆ 149999 ┆ 0.48832  │\n",
       "└────────┴────────┴──────────┘"
      ]
     },
     "execution_count": 23,
     "metadata": {},
     "output_type": "execute_result"
    }
   ],
   "source": [
    "df_pred"
   ]
  },
  {
   "cell_type": "code",
   "execution_count": null,
   "id": "a0963361-0101-4a32-a07d-887ac48b5d31",
   "metadata": {},
   "outputs": [],
   "source": [
    "import polars as pl\n",
    "\n",
    "def recall_at(df_solution: pl.DataFrame, df_pred: pl.DataFrame, k=40):\n",
    "    assert df_pred.group_by(['cookie']).agg(pl.col('node').count())['node'].max() <41 , 'send more then 40 nodes per cookie'\n",
    "    assert 'node' in df_pred.columns, 'node columns does not exist'\n",
    "    assert 'cookie' in df_pred.columns, 'cookie columns does not exist'\n",
    "    assert df_pred.with_columns(v = 1).group_by(['cookie','node']).agg(pl.col('v').count())['v'].max() == 1 , 'more then 1 cookie-node pair'\n",
    "    assert df_pred['cookie'].dtype == pl.Int64, 'cookie must be int64'\n",
    "    assert df_pred['node'].dtype == pl.Int64, 'node must be int64'\n",
    "    \n",
    "    return  df_solution[['node', 'cookie']].join(\n",
    "        df_pred.group_by('cookie').head(k).with_columns(value=1)[['node', 'cookie', 'value']], \n",
    "        how='left',\n",
    "        on = ['cookie', 'node']\n",
    "    ).select(\n",
    "        [pl.col('value').fill_null(0), 'cookie']\n",
    "    ).group_by(\n",
    "        'cookie'\n",
    "    ).agg(\n",
    "        [\n",
    "            pl.col('value').sum()/pl.col(\n",
    "                'value'\n",
    "            ).count()\n",
    "        ]\n",
    "    )['value'].mean()\n",
    "\n",
    "def main(solution_path: str, prediction_path: str, stage: int):\n",
    "    return recall_at(pl.read_csv(solution_path).filter(stage=stage), pl.read_csv(prediction_path))"
   ]
  }
 ],
 "metadata": {
  "kernelspec": {
   "display_name": "Python 3 (ipykernel)",
   "language": "python",
   "name": "python3"
  },
  "language_info": {
   "codemirror_mode": {
    "name": "ipython",
    "version": 3
   },
   "file_extension": ".py",
   "mimetype": "text/x-python",
   "name": "python",
   "nbconvert_exporter": "python",
   "pygments_lexer": "ipython3",
   "version": "3.12.3"
  }
 },
 "nbformat": 4,
 "nbformat_minor": 5
}
